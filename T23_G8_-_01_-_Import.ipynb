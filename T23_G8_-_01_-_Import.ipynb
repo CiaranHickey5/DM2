{
 "cells": [
  {
   "cell_type": "markdown",
   "metadata": {},
   "source": [
    "# T23_G8 - 01 - Import"
   ]
  },
  {
   "cell_type": "markdown",
   "metadata": {},
   "source": [
    "## Setup"
   ]
  },
  {
   "cell_type": "code",
   "execution_count": 1,
   "metadata": {
    "tags": []
   },
   "outputs": [],
   "source": [
    "import numpy as np\n",
    "import pandas as pd\n",
    "import matplotlib.pyplot as plt\n",
    "import seaborn as sns\n",
    "sns.set_style('darkgrid')\n",
    "\n",
    "pd.set_option('display.max.columns', None)\n",
    "\n",
    "import pyreadstat"
   ]
  },
  {
   "cell_type": "markdown",
   "metadata": {},
   "source": [
    "## Reading Codebook\n",
    "\n",
    "* I just want to make sure that I understand the relationship between the codebook and the datafile."
   ]
  },
  {
   "cell_type": "code",
   "execution_count": 2,
   "metadata": {},
   "outputs": [
    {
     "data": {
      "text/plain": [
       "['BCGM8', 'BSAM8', 'BSGM8', 'BSPM8', 'BSRM8', 'BSTM8', 'BTMM8', 'BTSM8']"
      ]
     },
     "execution_count": 2,
     "metadata": {},
     "output_type": "execute_result"
    }
   ],
   "source": [
    "# Read in codebook (all worksheets - first three letters (in lowercase) give name of data file.)\n",
    "xls = pd.ExcelFile(\"orig/docs/T23_G8_Codebook.xlsx\")\n",
    "xls.sheet_names"
   ]
  },
  {
   "cell_type": "code",
   "execution_count": 3,
   "metadata": {},
   "outputs": [],
   "source": [
    "# Compiled from User Guide T23 User Guide, (exhibit 2.4, p.52)\n",
    "DATAFILES = {\n",
    "    'bcg': 'School context data',\n",
    "    'bsa': 'Student achievement data',\n",
    "    'bsp': 'Student process data',\n",
    "    'bsr': 'Within-country scoring reliability data',\n",
    "    'bsg': 'Student context data data',\n",
    "    'bst': 'Student achievement data',\n",
    "    'btm': 'Mathematics teacher context data',\n",
    "    'bts': 'Science teacher context data (we will ignore this)',\n",
    "}"
   ]
  },
  {
   "cell_type": "markdown",
   "metadata": {},
   "source": [
    "### Check: codebook matches datafiles\n",
    "\n",
    "Iterating over all worksheets:\n",
    "\n",
    "* Verify that variables (columns) in data file matches variables (rows) in codebook worksheet.\n",
    "* Print size of datafile (I was curious)."
   ]
  },
  {
   "cell_type": "code",
   "execution_count": 4,
   "metadata": {},
   "outputs": [
    {
     "name": "stdout",
     "output_type": "stream",
     "text": [
      "Datafile: bcg : School context data ...\n",
      "\t Shape:   (153, 104)\n",
      "\t Columns: ['CTY', 'IDCNTRY', 'IDPOP', 'IDGRADER', 'IDGRADE', 'IDSCHOOL', 'ITLANG_CQ', 'LCID_CQ', 'BCBG03A', 'BCBG03B']\n",
      "Datafile: bsa : Student achievement data ...\n",
      "\t Shape:   (5090, 1145)\n",
      "\t Columns: ['CTY', 'IDCNTRY', 'IDPOP', 'IDGRADER', 'IDGRADE', 'ITASSESS', 'IDBOOK', 'IDSCHOOL', 'IDCLASS', 'IDSTUD']\n",
      "Datafile: bsg : Student context data data ...\n",
      "\t Shape:   (5090, 511)\n",
      "\t Columns: ['CTY', 'IDCNTRY', 'IDPOP', 'IDGRADER', 'IDGRADE', 'ITASSESS', 'IDBOOK', 'IDSCHOOL', 'IDCLASS', 'IDSTUD']\n",
      "Datafile: bsp : Student process data ...\n",
      "\t Shape:   (5090, 1304)\n",
      "\t Columns: ['CTY', 'IDCNTRY', 'IDPOP', 'IDGRADER', 'IDGRADE', 'ITASSESS', 'IDBOOK', 'IDSCHOOL', 'IDCLASS', 'IDSTUD']\n",
      "Datafile: bsr : Within-country scoring reliability data ...\n",
      "\t Shape:   (4723, 662)\n",
      "\t Columns: ['CTY', 'IDCNTRY', 'IDPOP', 'IDGRADER', 'IDGRADE', 'IDBOOK', 'IDSCHOOL', 'IDCLASS', 'IDSTUD', 'MER72002']\n",
      "Datafile: bst : Student achievement data ...\n",
      "\t Shape:   (9992, 122)\n",
      "\t Columns: ['CTY', 'IDCNTRY', 'IDPOP', 'IDGRADER', 'IDGRADE', 'ITASSESS', 'IDBOOK', 'IDSCHOOL', 'IDCLASS', 'IDSTUD']\n",
      "Datafile: btm : Mathematics teacher context data ...\n",
      "\t Shape:   (630, 169)\n",
      "\t Columns: ['CTY', 'IDCNTRY', 'IDPOP', 'IDGRADER', 'IDGRADE', 'IDSCHOOL', 'IDTEACH', 'IDLINK', 'IDTEALIN', 'ITCOURSE']\n",
      "Datafile: bts : Science teacher context data (we will ignore this) ...\n",
      "\t Shape:   (440, 218)\n",
      "\t Columns: ['CTY', 'IDCNTRY', 'IDPOP', 'IDGRADER', 'IDGRADE', 'IDSCHOOL', 'IDTEACH', 'IDLINK', 'IDTEALIN', 'ITCOURSE']\n"
     ]
    }
   ],
   "source": [
    "for work_sheet in xls.sheet_names:\n",
    "\n",
    "    datafile = work_sheet[:3].lower()\n",
    "    print(f\"Datafile: {datafile} : {DATAFILES[datafile]} ...\")\n",
    "\n",
    "    # Load codebook and datafile\n",
    "    df_codebook = pd.read_excel(xls, sheet_name=work_sheet)\n",
    "    df_data = pd.read_spss(f\"orig/SPSS/{datafile}irlm8.sav\")\n",
    " \n",
    "    # Extract variable names from codebook and datafile\n",
    "    variables_in_codebook = df_codebook.Variable.values.tolist()\n",
    "    variables_in_datafile = df_data.columns.tolist()\n",
    "\n",
    "    # Sneaky peak into datafile    \n",
    "    print(f\"\\t Shape:   {df_data.shape}\")\n",
    "    print(f\"\\t Columns: {df_data.columns.tolist()[:10]}\")\n",
    "\n",
    "    # Demand variables in codebook and in datafile match\n",
    "    assert variables_in_codebook==variables_in_datafile, \"Mismatch between codebook and datafile for data file type {datafile}\""
   ]
  },
  {
   "cell_type": "markdown",
   "metadata": {},
   "source": [
    "So some columns are repeated across datafiles. Of course this should happen &mdash; how else could the datafile be joined?\n",
    "\n",
    "So on possible step would be to take all eight worksheets and join them into one dataframe and dropping duplicates. This data frame will be used whenever I need to lookup meta information about a variable."
   ]
  },
  {
   "cell_type": "code",
   "execution_count": 5,
   "metadata": {},
   "outputs": [
    {
     "name": "stdout",
     "output_type": "stream",
     "text": [
      "(4235, 16)\n"
     ]
    },
    {
     "data": {
      "text/html": [
       "<div>\n",
       "<style scoped>\n",
       "    .dataframe tbody tr th:only-of-type {\n",
       "        vertical-align: middle;\n",
       "    }\n",
       "\n",
       "    .dataframe tbody tr th {\n",
       "        vertical-align: top;\n",
       "    }\n",
       "\n",
       "    .dataframe thead th {\n",
       "        text-align: right;\n",
       "    }\n",
       "</style>\n",
       "<table border=\"1\" class=\"dataframe\">\n",
       "  <thead>\n",
       "    <tr style=\"text-align: right;\">\n",
       "      <th></th>\n",
       "      <th>Variable</th>\n",
       "      <th>Label</th>\n",
       "      <th>Question Location</th>\n",
       "      <th>Level</th>\n",
       "      <th>Width</th>\n",
       "      <th>Decimals</th>\n",
       "      <th>Range Minimum</th>\n",
       "      <th>Range Maximum</th>\n",
       "      <th>Value Scheme Detailed</th>\n",
       "      <th>Missing Scheme Detailed: SPSS</th>\n",
       "      <th>Missing Scheme Detailed: SAS</th>\n",
       "      <th>Field Code: SPSS</th>\n",
       "      <th>Field Code: SAS</th>\n",
       "      <th>Domain</th>\n",
       "      <th>Variable Class</th>\n",
       "      <th>Comment</th>\n",
       "    </tr>\n",
       "  </thead>\n",
       "  <tbody>\n",
       "    <tr>\n",
       "      <th>0</th>\n",
       "      <td>CTY</td>\n",
       "      <td>Country Alpha3</td>\n",
       "      <td>NaN</td>\n",
       "      <td>Not defined</td>\n",
       "      <td>5</td>\n",
       "      <td>0</td>\n",
       "      <td>NaN</td>\n",
       "      <td>NaN</td>\n",
       "      <td>NaN</td>\n",
       "      <td>NaN</td>\n",
       "      <td>NaN</td>\n",
       "      <td>NaN</td>\n",
       "      <td>NaN</td>\n",
       "      <td>Calculated at IEA</td>\n",
       "      <td>NaN</td>\n",
       "      <td>NaN</td>\n",
       "    </tr>\n",
       "  </tbody>\n",
       "</table>\n",
       "</div>"
      ],
      "text/plain": [
       "  Variable           Label Question Location        Level  Width  Decimals  \\\n",
       "0      CTY  Country Alpha3               NaN  Not defined      5         0   \n",
       "\n",
       "   Range Minimum  Range Maximum Value Scheme Detailed  \\\n",
       "0            NaN            NaN                   NaN   \n",
       "\n",
       "  Missing Scheme Detailed: SPSS Missing Scheme Detailed: SAS Field Code: SPSS  \\\n",
       "0                           NaN                          NaN              NaN   \n",
       "\n",
       "  Field Code: SAS             Domain Variable Class Comment  \n",
       "0             NaN  Calculated at IEA            NaN     NaN  "
      ]
     },
     "execution_count": 5,
     "metadata": {},
     "output_type": "execute_result"
    }
   ],
   "source": [
    "# Read codebook in (again, just to be sure) and concat all sheets into one dataframe\n",
    "\n",
    "xls = pd.ExcelFile(\"orig/docs/T23_G8_Codebook.xlsx\")\n",
    "dfs = [pd.read_excel(xls, sheet_name=s) for s in xls.sheet_names]\n",
    "df_codebook = pd.concat(dfs)\n",
    "\n",
    "print(df_codebook.shape)\n",
    "df_codebook.head(1)"
   ]
  },
  {
   "cell_type": "markdown",
   "metadata": {},
   "source": [
    "### Check: Variables have single purpose\n",
    "\n",
    "Some variables appear in multiple datasets. They SHOULD have same meaning in each dataset.\n",
    "\n",
    "If I drop duplicates, then each variable should appear exactly once. "
   ]
  },
  {
   "cell_type": "code",
   "execution_count": 6,
   "metadata": {},
   "outputs": [
    {
     "name": "stdout",
     "output_type": "stream",
     "text": [
      "(4235, 16)\n",
      "(3543, 16)\n"
     ]
    }
   ],
   "source": [
    "print(df_codebook.shape)\n",
    "df_codebook = df_codebook.drop_duplicates()\n",
    "print(df_codebook.shape)"
   ]
  },
  {
   "cell_type": "markdown",
   "metadata": {},
   "source": [
    "The following assertion should pass,\n",
    "\n",
    "```python\n",
    "assert df_codebook['Variable'].value_counts().max()==1, \"Some variable has differing entries\"\n",
    "``` \n",
    "\n",
    "but someone (not me, this time) has made a mistake in the data and out of the 3542 variables in the dataset one variable (`ITLANG_SA`) appears twice."
   ]
  },
  {
   "cell_type": "code",
   "execution_count": 7,
   "metadata": {},
   "outputs": [
    {
     "data": {
      "text/plain": [
       "Variable\n",
       "ITLANG_SA    2\n",
       "Name: count, dtype: int64"
      ]
     },
     "execution_count": 7,
     "metadata": {},
     "output_type": "execute_result"
    }
   ],
   "source": [
    "df_tmp = df_codebook['Variable'].value_counts()\n",
    "\n",
    "# Do any variables have multiple (different) meta information? (should be none)\n",
    "df_tmp[df_tmp>1]"
   ]
  },
  {
   "cell_type": "code",
   "execution_count": 8,
   "metadata": {},
   "outputs": [
    {
     "data": {
      "text/html": [
       "<div>\n",
       "<style scoped>\n",
       "    .dataframe tbody tr th:only-of-type {\n",
       "        vertical-align: middle;\n",
       "    }\n",
       "\n",
       "    .dataframe tbody tr th {\n",
       "        vertical-align: top;\n",
       "    }\n",
       "\n",
       "    .dataframe thead th {\n",
       "        text-align: right;\n",
       "    }\n",
       "</style>\n",
       "<table border=\"1\" class=\"dataframe\">\n",
       "  <thead>\n",
       "    <tr style=\"text-align: right;\">\n",
       "      <th></th>\n",
       "      <th>Variable</th>\n",
       "      <th>Label</th>\n",
       "      <th>Question Location</th>\n",
       "      <th>Level</th>\n",
       "      <th>Width</th>\n",
       "      <th>Decimals</th>\n",
       "      <th>Range Minimum</th>\n",
       "      <th>Range Maximum</th>\n",
       "      <th>Value Scheme Detailed</th>\n",
       "      <th>Missing Scheme Detailed: SPSS</th>\n",
       "      <th>Missing Scheme Detailed: SAS</th>\n",
       "      <th>Field Code: SPSS</th>\n",
       "      <th>Field Code: SAS</th>\n",
       "      <th>Domain</th>\n",
       "      <th>Variable Class</th>\n",
       "      <th>Comment</th>\n",
       "    </tr>\n",
       "  </thead>\n",
       "  <tbody>\n",
       "    <tr>\n",
       "      <th>14</th>\n",
       "      <td>ITLANG_SA</td>\n",
       "      <td>Language of Student Achievement Test</td>\n",
       "      <td>NaN</td>\n",
       "      <td>Nominal</td>\n",
       "      <td>2</td>\n",
       "      <td>0</td>\n",
       "      <td>NaN</td>\n",
       "      <td>NaN</td>\n",
       "      <td>1: English; 2: Spanish; 3: French; 4: Afrikaan...</td>\n",
       "      <td>99: Omitted or invalid; Sysmis: Not administered</td>\n",
       "      <td>.: Omitted or invalid; .A: Not administered</td>\n",
       "      <td>1: English; 2: Spanish; 3: French; 4: Afrikaan...</td>\n",
       "      <td>1: English; 2: Spanish; 3: French; 4: Afrikaan...</td>\n",
       "      <td>Calculated at IEA</td>\n",
       "      <td>IEA_D</td>\n",
       "      <td>NaN</td>\n",
       "    </tr>\n",
       "    <tr>\n",
       "      <th>14</th>\n",
       "      <td>ITLANG_SA</td>\n",
       "      <td>Language of Student Achievement Test</td>\n",
       "      <td>NaN</td>\n",
       "      <td>Nominal</td>\n",
       "      <td>2</td>\n",
       "      <td>0</td>\n",
       "      <td>NaN</td>\n",
       "      <td>NaN</td>\n",
       "      <td>1: English; 2: Spanish; 3: French; 4: Afrikaan...</td>\n",
       "      <td>99: Omitted or invalid; Sysmis: Not administered</td>\n",
       "      <td>.: Omitted or invalid; .A: Not administered</td>\n",
       "      <td>1: English; 2: Spanish; 3: French; 4: Afrikaan...</td>\n",
       "      <td>1: English; 2: Spanish; 3: French; 4: Afrikaan...</td>\n",
       "      <td>Calculated at IEA</td>\n",
       "      <td>IEA_D</td>\n",
       "      <td>NaN</td>\n",
       "    </tr>\n",
       "  </tbody>\n",
       "</table>\n",
       "</div>"
      ],
      "text/plain": [
       "     Variable                                 Label Question Location  \\\n",
       "14  ITLANG_SA  Language of Student Achievement Test               NaN   \n",
       "14  ITLANG_SA  Language of Student Achievement Test               NaN   \n",
       "\n",
       "      Level  Width  Decimals  Range Minimum  Range Maximum  \\\n",
       "14  Nominal      2         0            NaN            NaN   \n",
       "14  Nominal      2         0            NaN            NaN   \n",
       "\n",
       "                                Value Scheme Detailed  \\\n",
       "14  1: English; 2: Spanish; 3: French; 4: Afrikaan...   \n",
       "14  1: English; 2: Spanish; 3: French; 4: Afrikaan...   \n",
       "\n",
       "                       Missing Scheme Detailed: SPSS  \\\n",
       "14  99: Omitted or invalid; Sysmis: Not administered   \n",
       "14  99: Omitted or invalid; Sysmis: Not administered   \n",
       "\n",
       "                   Missing Scheme Detailed: SAS  \\\n",
       "14  .: Omitted or invalid; .A: Not administered   \n",
       "14  .: Omitted or invalid; .A: Not administered   \n",
       "\n",
       "                                     Field Code: SPSS  \\\n",
       "14  1: English; 2: Spanish; 3: French; 4: Afrikaan...   \n",
       "14  1: English; 2: Spanish; 3: French; 4: Afrikaan...   \n",
       "\n",
       "                                      Field Code: SAS             Domain  \\\n",
       "14  1: English; 2: Spanish; 3: French; 4: Afrikaan...  Calculated at IEA   \n",
       "14  1: English; 2: Spanish; 3: French; 4: Afrikaan...  Calculated at IEA   \n",
       "\n",
       "   Variable Class Comment  \n",
       "14          IEA_D     NaN  \n",
       "14          IEA_D     NaN  "
      ]
     },
     "execution_count": 8,
     "metadata": {},
     "output_type": "execute_result"
    }
   ],
   "source": [
    "df_codebook.query(\"Variable=='ITLANG_SA'\")"
   ]
  },
  {
   "cell_type": "markdown",
   "metadata": {},
   "source": [
    "Fortunately, this variable is unlikely to be of importance to us, looking at the Ireland data, so I'm going to delete one of the rows."
   ]
  },
  {
   "cell_type": "code",
   "execution_count": 9,
   "metadata": {},
   "outputs": [
    {
     "name": "stdout",
     "output_type": "stream",
     "text": [
      "(3543, 16)\n",
      "(3542, 16)\n"
     ]
    }
   ],
   "source": [
    "print(df_codebook.shape)\n",
    "df_codebook = df_codebook.drop_duplicates(subset=['Variable'])\n",
    "print(df_codebook.shape)"
   ]
  },
  {
   "cell_type": "markdown",
   "metadata": {},
   "source": [
    "Now the assertion works as expected"
   ]
  },
  {
   "cell_type": "code",
   "execution_count": 10,
   "metadata": {},
   "outputs": [],
   "source": [
    "assert df_codebook['Variable'].value_counts().max()==1, \"Some variable has differing entries\""
   ]
  },
  {
   "cell_type": "markdown",
   "metadata": {},
   "source": [
    "Finally I set the index of the codebook to the variable name."
   ]
  },
  {
   "cell_type": "code",
   "execution_count": 11,
   "metadata": {},
   "outputs": [
    {
     "data": {
      "text/html": [
       "<div>\n",
       "<style scoped>\n",
       "    .dataframe tbody tr th:only-of-type {\n",
       "        vertical-align: middle;\n",
       "    }\n",
       "\n",
       "    .dataframe tbody tr th {\n",
       "        vertical-align: top;\n",
       "    }\n",
       "\n",
       "    .dataframe thead th {\n",
       "        text-align: right;\n",
       "    }\n",
       "</style>\n",
       "<table border=\"1\" class=\"dataframe\">\n",
       "  <thead>\n",
       "    <tr style=\"text-align: right;\">\n",
       "      <th></th>\n",
       "      <th>Label</th>\n",
       "      <th>Question Location</th>\n",
       "      <th>Level</th>\n",
       "      <th>Width</th>\n",
       "      <th>Decimals</th>\n",
       "      <th>Range Minimum</th>\n",
       "      <th>Range Maximum</th>\n",
       "      <th>Value Scheme Detailed</th>\n",
       "      <th>Missing Scheme Detailed: SPSS</th>\n",
       "      <th>Missing Scheme Detailed: SAS</th>\n",
       "      <th>Field Code: SPSS</th>\n",
       "      <th>Field Code: SAS</th>\n",
       "      <th>Domain</th>\n",
       "      <th>Variable Class</th>\n",
       "      <th>Comment</th>\n",
       "    </tr>\n",
       "    <tr>\n",
       "      <th>Variable</th>\n",
       "      <th></th>\n",
       "      <th></th>\n",
       "      <th></th>\n",
       "      <th></th>\n",
       "      <th></th>\n",
       "      <th></th>\n",
       "      <th></th>\n",
       "      <th></th>\n",
       "      <th></th>\n",
       "      <th></th>\n",
       "      <th></th>\n",
       "      <th></th>\n",
       "      <th></th>\n",
       "      <th></th>\n",
       "      <th></th>\n",
       "    </tr>\n",
       "  </thead>\n",
       "  <tbody>\n",
       "    <tr>\n",
       "      <th>CTY</th>\n",
       "      <td>Country Alpha3</td>\n",
       "      <td>NaN</td>\n",
       "      <td>Not defined</td>\n",
       "      <td>5</td>\n",
       "      <td>0</td>\n",
       "      <td>NaN</td>\n",
       "      <td>NaN</td>\n",
       "      <td>NaN</td>\n",
       "      <td>NaN</td>\n",
       "      <td>NaN</td>\n",
       "      <td>NaN</td>\n",
       "      <td>NaN</td>\n",
       "      <td>Calculated at IEA</td>\n",
       "      <td>NaN</td>\n",
       "      <td>NaN</td>\n",
       "    </tr>\n",
       "  </tbody>\n",
       "</table>\n",
       "</div>"
      ],
      "text/plain": [
       "                   Label Question Location        Level  Width  Decimals  \\\n",
       "Variable                                                                   \n",
       "CTY       Country Alpha3               NaN  Not defined      5         0   \n",
       "\n",
       "          Range Minimum  Range Maximum Value Scheme Detailed  \\\n",
       "Variable                                                       \n",
       "CTY                 NaN            NaN                   NaN   \n",
       "\n",
       "         Missing Scheme Detailed: SPSS Missing Scheme Detailed: SAS  \\\n",
       "Variable                                                              \n",
       "CTY                                NaN                          NaN   \n",
       "\n",
       "         Field Code: SPSS Field Code: SAS             Domain Variable Class  \\\n",
       "Variable                                                                      \n",
       "CTY                   NaN             NaN  Calculated at IEA            NaN   \n",
       "\n",
       "         Comment  \n",
       "Variable          \n",
       "CTY          NaN  "
      ]
     },
     "execution_count": 11,
     "metadata": {},
     "output_type": "execute_result"
    }
   ],
   "source": [
    "if not df_codebook.index.name:\n",
    "    df_codebook = df_codebook.set_index('Variable')\n",
    "\n",
    "df_codebook.head(1)"
   ]
  },
  {
   "cell_type": "markdown",
   "metadata": {},
   "source": [
    "### Sample usage of codebook"
   ]
  },
  {
   "cell_type": "code",
   "execution_count": 12,
   "metadata": {},
   "outputs": [
    {
     "data": {
      "text/plain": [
       "Label                                         Language of Student Achievement Test\n",
       "Question Location                                                              NaN\n",
       "Level                                                                      Nominal\n",
       "Width                                                                            2\n",
       "Decimals                                                                         0\n",
       "Range Minimum                                                                  NaN\n",
       "Range Maximum                                                                  NaN\n",
       "Value Scheme Detailed            1: English; 2: Spanish; 3: French; 4: Afrikaan...\n",
       "Missing Scheme Detailed: SPSS     99: Omitted or invalid; Sysmis: Not administered\n",
       "Missing Scheme Detailed: SAS           .: Omitted or invalid; .A: Not administered\n",
       "Field Code: SPSS                 1: English; 2: Spanish; 3: French; 4: Afrikaan...\n",
       "Field Code: SAS                  1: English; 2: Spanish; 3: French; 4: Afrikaan...\n",
       "Domain                                                           Calculated at IEA\n",
       "Variable Class                                                               IEA_D\n",
       "Comment                                                                        NaN\n",
       "Name: ITLANG_SA, dtype: object"
      ]
     },
     "execution_count": 12,
     "metadata": {},
     "output_type": "execute_result"
    }
   ],
   "source": [
    "# get everything about a variable\n",
    "df_codebook.loc['ITLANG_SA']"
   ]
  },
  {
   "cell_type": "code",
   "execution_count": 13,
   "metadata": {},
   "outputs": [
    {
     "data": {
      "text/plain": [
       "'Language of Student Achievement Test'"
      ]
     },
     "execution_count": 13,
     "metadata": {},
     "output_type": "execute_result"
    }
   ],
   "source": [
    "# get a single property about a variable\n",
    "df_codebook.loc['ITLANG_SA']['Label']"
   ]
  },
  {
   "cell_type": "code",
   "execution_count": 14,
   "metadata": {},
   "outputs": [
    {
     "data": {
      "text/plain": [
       "'Standardized Grade ID'"
      ]
     },
     "execution_count": 14,
     "metadata": {},
     "output_type": "execute_result"
    }
   ],
   "source": [
    "# or could define a function (to separate implementation from use)\n",
    "def get_property(variable, property='Label'):\n",
    "    return  df_codebook.loc[variable][property]\n",
    "\n",
    "get_property('IDGRADER')"
   ]
  },
  {
   "cell_type": "markdown",
   "metadata": {},
   "source": [
    "## Read single datafile\n",
    "\n",
    "Here I wanted to read in a single dataset to see what is the best approach to use."
   ]
  },
  {
   "cell_type": "code",
   "execution_count": 15,
   "metadata": {},
   "outputs": [
    {
     "data": {
      "text/plain": [
       "'bcgirlm8.sav'"
      ]
     },
     "execution_count": 15,
     "metadata": {},
     "output_type": "execute_result"
    }
   ],
   "source": [
    "datafile = 'bcg'\n",
    "country = 'irl'\n",
    "filename = f'{datafile}{country}m8.sav'\n",
    "filename"
   ]
  },
  {
   "cell_type": "markdown",
   "metadata": {},
   "source": [
    "The SPSS `sav` file can be read using two methods:\n",
    "\n",
    "* Using `pd.read_spss` will return a `pd.DataFrame` with ALL columns with `category` data type.\n",
    "    * So numerical columns will need be converted. \n",
    "* Using `pyreadstat.read_sav` will return a `pd.DataFrame` and a `pyreadstat.metadata_container`.\n",
    "    * The dataFrame is encoded (so label values are replaced by numbers) and all columns have `float` data type.\n",
    "    * To use this we would have to undo the encoding to get understandable labels.\n",
    "\n",
    "\n",
    "The following cells read in one datafile using both methods and compares the results."
   ]
  },
  {
   "cell_type": "markdown",
   "metadata": {},
   "source": [
    "### Using `pd.read_spss`"
   ]
  },
  {
   "cell_type": "code",
   "execution_count": 16,
   "metadata": {},
   "outputs": [
    {
     "data": {
      "text/html": [
       "<div>\n",
       "<style scoped>\n",
       "    .dataframe tbody tr th:only-of-type {\n",
       "        vertical-align: middle;\n",
       "    }\n",
       "\n",
       "    .dataframe tbody tr th {\n",
       "        vertical-align: top;\n",
       "    }\n",
       "\n",
       "    .dataframe thead th {\n",
       "        text-align: right;\n",
       "    }\n",
       "</style>\n",
       "<table border=\"1\" class=\"dataframe\">\n",
       "  <thead>\n",
       "    <tr style=\"text-align: right;\">\n",
       "      <th></th>\n",
       "      <th>CTY</th>\n",
       "      <th>IDCNTRY</th>\n",
       "      <th>IDPOP</th>\n",
       "      <th>IDGRADER</th>\n",
       "      <th>IDGRADE</th>\n",
       "      <th>IDSCHOOL</th>\n",
       "      <th>ITLANG_CQ</th>\n",
       "      <th>LCID_CQ</th>\n",
       "      <th>BCBG03A</th>\n",
       "      <th>BCBG03B</th>\n",
       "      <th>BCBG04</th>\n",
       "      <th>BCBG05A</th>\n",
       "      <th>BCBG05B</th>\n",
       "      <th>BCBG06A</th>\n",
       "      <th>BCBG06B</th>\n",
       "      <th>BCBG06C</th>\n",
       "      <th>BCBG07</th>\n",
       "      <th>BCBG08</th>\n",
       "      <th>BCBG09</th>\n",
       "      <th>BCBG10A</th>\n",
       "      <th>BCBG10B</th>\n",
       "      <th>BCBG11AA</th>\n",
       "      <th>BCBG11AB</th>\n",
       "      <th>BCBG11AC</th>\n",
       "      <th>BCBG11AD</th>\n",
       "      <th>BCBG11AE</th>\n",
       "      <th>BCBG11AF</th>\n",
       "      <th>BCBG11AG</th>\n",
       "      <th>BCBG11AH</th>\n",
       "      <th>BCBG11AI</th>\n",
       "      <th>BCBG11BA</th>\n",
       "      <th>BCBG11BB</th>\n",
       "      <th>BCBG11BC</th>\n",
       "      <th>BCBG11BD</th>\n",
       "      <th>BCBG11BE</th>\n",
       "      <th>BCBG11CA</th>\n",
       "      <th>BCBG11CB</th>\n",
       "      <th>BCBG11CC</th>\n",
       "      <th>BCBG11CD</th>\n",
       "      <th>BCBG11CE</th>\n",
       "      <th>BCBG12A</th>\n",
       "      <th>BCBG12B</th>\n",
       "      <th>BCBG12C</th>\n",
       "      <th>BCBG12D</th>\n",
       "      <th>BCBG12E</th>\n",
       "      <th>BCBG12F</th>\n",
       "      <th>BCBG12G</th>\n",
       "      <th>BCBG12H</th>\n",
       "      <th>BCBG12I</th>\n",
       "      <th>BCBG12J</th>\n",
       "      <th>BCBG12K</th>\n",
       "      <th>BCBG13A</th>\n",
       "      <th>BCBG13B</th>\n",
       "      <th>BCBG13C</th>\n",
       "      <th>BCBG13D</th>\n",
       "      <th>BCBG14A</th>\n",
       "      <th>BCBG14B</th>\n",
       "      <th>BCBG14C</th>\n",
       "      <th>BCBG14D</th>\n",
       "      <th>BCBG14E</th>\n",
       "      <th>BCBG14F</th>\n",
       "      <th>BCBG14G</th>\n",
       "      <th>BCBG14H</th>\n",
       "      <th>BCBG15A</th>\n",
       "      <th>BCBG15B</th>\n",
       "      <th>BCBG15C</th>\n",
       "      <th>BCBG15D</th>\n",
       "      <th>BCBG15E</th>\n",
       "      <th>BCBG15F</th>\n",
       "      <th>BCBG15G</th>\n",
       "      <th>BCBG15H</th>\n",
       "      <th>BCBG15I</th>\n",
       "      <th>BCBG15J</th>\n",
       "      <th>BCBG15K</th>\n",
       "      <th>BCBG16A</th>\n",
       "      <th>BCBG16B</th>\n",
       "      <th>BCBG17</th>\n",
       "      <th>BCBG18</th>\n",
       "      <th>BCBG19</th>\n",
       "      <th>BCBG20A</th>\n",
       "      <th>BCBG20B</th>\n",
       "      <th>BCBG20C</th>\n",
       "      <th>BCBG21A</th>\n",
       "      <th>BCBG21B</th>\n",
       "      <th>BCBG21C</th>\n",
       "      <th>BCBG21D</th>\n",
       "      <th>JKCZONE</th>\n",
       "      <th>JKCREP</th>\n",
       "      <th>SCHWGT</th>\n",
       "      <th>STOTWGTU</th>\n",
       "      <th>WGTFAC1</th>\n",
       "      <th>WGTADJ1</th>\n",
       "      <th>BCDGMRS</th>\n",
       "      <th>BCBGMRS</th>\n",
       "      <th>BCDGSRS</th>\n",
       "      <th>BCBGSRS</th>\n",
       "      <th>BCDGEAS</th>\n",
       "      <th>BCBGEAS</th>\n",
       "      <th>BCDGDAS</th>\n",
       "      <th>BCBGDAS</th>\n",
       "      <th>BCDGSBC</th>\n",
       "      <th>BCDGTIHY</th>\n",
       "      <th>VERSION</th>\n",
       "      <th>SCOPE</th>\n",
       "    </tr>\n",
       "  </thead>\n",
       "  <tbody>\n",
       "    <tr>\n",
       "      <th>0</th>\n",
       "      <td>IRL</td>\n",
       "      <td>372.0</td>\n",
       "      <td>Pop 2</td>\n",
       "      <td>Upper Grade</td>\n",
       "      <td>Grade 8</td>\n",
       "      <td>5001.0</td>\n",
       "      <td>English</td>\n",
       "      <td>English (Ireland)</td>\n",
       "      <td>More than 50%</td>\n",
       "      <td>0 to 10%</td>\n",
       "      <td>76 to 90%</td>\n",
       "      <td>50,001 to 100,000 people</td>\n",
       "      <td>Medium size city or large town</td>\n",
       "      <td>166.0</td>\n",
       "      <td>NaN</td>\n",
       "      <td>4 1/2 days</td>\n",
       "      <td>90.0</td>\n",
       "      <td>Yes</td>\n",
       "      <td>Yes</td>\n",
       "      <td>Yes</td>\n",
       "      <td>Yes</td>\n",
       "      <td>A little</td>\n",
       "      <td>Not at all</td>\n",
       "      <td>A little</td>\n",
       "      <td>Not at all</td>\n",
       "      <td>A little</td>\n",
       "      <td>A little</td>\n",
       "      <td>A little</td>\n",
       "      <td>Some</td>\n",
       "      <td>Some</td>\n",
       "      <td>A little</td>\n",
       "      <td>A little</td>\n",
       "      <td>Some</td>\n",
       "      <td>Not at all</td>\n",
       "      <td>Some</td>\n",
       "      <td>Not at all</td>\n",
       "      <td>Not at all</td>\n",
       "      <td>A little</td>\n",
       "      <td>Not at all</td>\n",
       "      <td>A little</td>\n",
       "      <td>Very high</td>\n",
       "      <td>Very high</td>\n",
       "      <td>High</td>\n",
       "      <td>High</td>\n",
       "      <td>Low</td>\n",
       "      <td>Low</td>\n",
       "      <td>High</td>\n",
       "      <td>Medium</td>\n",
       "      <td>Medium</td>\n",
       "      <td>Medium</td>\n",
       "      <td>High</td>\n",
       "      <td>Agree a lot</td>\n",
       "      <td>Agree a little</td>\n",
       "      <td>Agree a little</td>\n",
       "      <td>Agree a lot</td>\n",
       "      <td>Agree a little</td>\n",
       "      <td>Agree a lot</td>\n",
       "      <td>Agree a little</td>\n",
       "      <td>Agree a lot</td>\n",
       "      <td>Agree a lot</td>\n",
       "      <td>Agree a lot</td>\n",
       "      <td>Agree a lot</td>\n",
       "      <td>Agree a lot</td>\n",
       "      <td>Minor problem</td>\n",
       "      <td>Minor problem</td>\n",
       "      <td>Minor problem</td>\n",
       "      <td>Not a problem</td>\n",
       "      <td>Minor problem</td>\n",
       "      <td>Not a problem</td>\n",
       "      <td>Minor problem</td>\n",
       "      <td>Minor problem</td>\n",
       "      <td>Minor problem</td>\n",
       "      <td>Not a problem</td>\n",
       "      <td>Not a problem</td>\n",
       "      <td>Minor problem</td>\n",
       "      <td>Not a problem</td>\n",
       "      <td>12.0</td>\n",
       "      <td>11.0</td>\n",
       "      <td>&lt;Doctor or equivalent level—ISCED Level 8&gt;</td>\n",
       "      <td>Yes</td>\n",
       "      <td>No</td>\n",
       "      <td>No</td>\n",
       "      <td>1 to 3 months</td>\n",
       "      <td>1 to 3 months</td>\n",
       "      <td>The school did not fully close</td>\n",
       "      <td>The school did not fully close</td>\n",
       "      <td>72.0</td>\n",
       "      <td>1.0</td>\n",
       "      <td>4.625</td>\n",
       "      <td>374.625</td>\n",
       "      <td>4.625</td>\n",
       "      <td>1.0</td>\n",
       "      <td>Somewhat Affected</td>\n",
       "      <td>9.95503</td>\n",
       "      <td>Somewhat Affected</td>\n",
       "      <td>10.63568</td>\n",
       "      <td>High Emphasis</td>\n",
       "      <td>9.83877</td>\n",
       "      <td>Minor Problems</td>\n",
       "      <td>10.10097</td>\n",
       "      <td>More Disadvantaged</td>\n",
       "      <td>NaN</td>\n",
       "      <td>4.0</td>\n",
       "      <td>Public Use File (PUF)</td>\n",
       "    </tr>\n",
       "  </tbody>\n",
       "</table>\n",
       "</div>"
      ],
      "text/plain": [
       "   CTY IDCNTRY  IDPOP     IDGRADER  IDGRADE IDSCHOOL ITLANG_CQ  \\\n",
       "0  IRL   372.0  Pop 2  Upper Grade  Grade 8   5001.0   English   \n",
       "\n",
       "             LCID_CQ        BCBG03A   BCBG03B     BCBG04  \\\n",
       "0  English (Ireland)  More than 50%  0 to 10%  76 to 90%   \n",
       "\n",
       "                    BCBG05A                         BCBG05B BCBG06A BCBG06B  \\\n",
       "0  50,001 to 100,000 people  Medium size city or large town   166.0     NaN   \n",
       "\n",
       "      BCBG06C BCBG07 BCBG08 BCBG09 BCBG10A BCBG10B  BCBG11AA    BCBG11AB  \\\n",
       "0  4 1/2 days   90.0    Yes    Yes     Yes     Yes  A little  Not at all   \n",
       "\n",
       "   BCBG11AC    BCBG11AD  BCBG11AE  BCBG11AF  BCBG11AG BCBG11AH BCBG11AI  \\\n",
       "0  A little  Not at all  A little  A little  A little     Some     Some   \n",
       "\n",
       "   BCBG11BA  BCBG11BB BCBG11BC    BCBG11BD BCBG11BE    BCBG11CA    BCBG11CB  \\\n",
       "0  A little  A little     Some  Not at all     Some  Not at all  Not at all   \n",
       "\n",
       "   BCBG11CC    BCBG11CD  BCBG11CE    BCBG12A    BCBG12B BCBG12C BCBG12D  \\\n",
       "0  A little  Not at all  A little  Very high  Very high    High    High   \n",
       "\n",
       "  BCBG12E BCBG12F BCBG12G BCBG12H BCBG12I BCBG12J BCBG12K      BCBG13A  \\\n",
       "0     Low     Low    High  Medium  Medium  Medium    High  Agree a lot   \n",
       "\n",
       "          BCBG13B         BCBG13C      BCBG13D         BCBG14A      BCBG14B  \\\n",
       "0  Agree a little  Agree a little  Agree a lot  Agree a little  Agree a lot   \n",
       "\n",
       "          BCBG14C      BCBG14D      BCBG14E      BCBG14F      BCBG14G  \\\n",
       "0  Agree a little  Agree a lot  Agree a lot  Agree a lot  Agree a lot   \n",
       "\n",
       "       BCBG14H        BCBG15A        BCBG15B        BCBG15C        BCBG15D  \\\n",
       "0  Agree a lot  Minor problem  Minor problem  Minor problem  Not a problem   \n",
       "\n",
       "         BCBG15E        BCBG15F        BCBG15G        BCBG15H        BCBG15I  \\\n",
       "0  Minor problem  Not a problem  Minor problem  Minor problem  Minor problem   \n",
       "\n",
       "         BCBG15J        BCBG15K        BCBG16A        BCBG16B BCBG17 BCBG18  \\\n",
       "0  Not a problem  Not a problem  Minor problem  Not a problem   12.0   11.0   \n",
       "\n",
       "                                       BCBG19 BCBG20A BCBG20B BCBG20C  \\\n",
       "0  <Doctor or equivalent level—ISCED Level 8>     Yes      No      No   \n",
       "\n",
       "         BCBG21A        BCBG21B                         BCBG21C  \\\n",
       "0  1 to 3 months  1 to 3 months  The school did not fully close   \n",
       "\n",
       "                          BCBG21D JKCZONE JKCREP SCHWGT STOTWGTU WGTFAC1  \\\n",
       "0  The school did not fully close    72.0    1.0  4.625  374.625   4.625   \n",
       "\n",
       "  WGTADJ1            BCDGMRS  BCBGMRS            BCDGSRS   BCBGSRS  \\\n",
       "0     1.0  Somewhat Affected  9.95503  Somewhat Affected  10.63568   \n",
       "\n",
       "         BCDGEAS  BCBGEAS         BCDGDAS   BCBGDAS             BCDGSBC  \\\n",
       "0  High Emphasis  9.83877  Minor Problems  10.10097  More Disadvantaged   \n",
       "\n",
       "  BCDGTIHY VERSION                  SCOPE  \n",
       "0      NaN     4.0  Public Use File (PUF)  "
      ]
     },
     "metadata": {},
     "output_type": "display_data"
    },
    {
     "data": {
      "text/plain": [
       "CTY           object\n",
       "IDCNTRY     category\n",
       "IDPOP       category\n",
       "IDGRADER    category\n",
       "IDGRADE     category\n",
       "              ...   \n",
       "BCBGDAS     category\n",
       "BCDGSBC     category\n",
       "BCDGTIHY    category\n",
       "VERSION     category\n",
       "SCOPE       category\n",
       "Length: 104, dtype: object"
      ]
     },
     "execution_count": 16,
     "metadata": {},
     "output_type": "execute_result"
    }
   ],
   "source": [
    "df_p = pd.read_spss(f'orig/SPSS/{filename}')\n",
    "display(df_p.head(1))\n",
    "df_p.dtypes"
   ]
  },
  {
   "cell_type": "markdown",
   "metadata": {},
   "source": [
    "### Using `pyreadstat.read_sav`"
   ]
  },
  {
   "cell_type": "code",
   "execution_count": 17,
   "metadata": {},
   "outputs": [
    {
     "data": {
      "text/plain": [
       "(pandas.core.frame.DataFrame, pyreadstat._readstat_parser.metadata_container)"
      ]
     },
     "execution_count": 17,
     "metadata": {},
     "output_type": "execute_result"
    }
   ],
   "source": [
    "df_s, meta = pyreadstat.read_sav(f'orig/SPSS/{filename}')\n",
    "type(df_s), type(meta)"
   ]
  },
  {
   "cell_type": "code",
   "execution_count": 18,
   "metadata": {},
   "outputs": [
    {
     "data": {
      "text/html": [
       "<div>\n",
       "<style scoped>\n",
       "    .dataframe tbody tr th:only-of-type {\n",
       "        vertical-align: middle;\n",
       "    }\n",
       "\n",
       "    .dataframe tbody tr th {\n",
       "        vertical-align: top;\n",
       "    }\n",
       "\n",
       "    .dataframe thead th {\n",
       "        text-align: right;\n",
       "    }\n",
       "</style>\n",
       "<table border=\"1\" class=\"dataframe\">\n",
       "  <thead>\n",
       "    <tr style=\"text-align: right;\">\n",
       "      <th></th>\n",
       "      <th>CTY</th>\n",
       "      <th>IDCNTRY</th>\n",
       "      <th>IDPOP</th>\n",
       "      <th>IDGRADER</th>\n",
       "      <th>IDGRADE</th>\n",
       "      <th>IDSCHOOL</th>\n",
       "      <th>ITLANG_CQ</th>\n",
       "      <th>LCID_CQ</th>\n",
       "      <th>BCBG03A</th>\n",
       "      <th>BCBG03B</th>\n",
       "      <th>BCBG04</th>\n",
       "      <th>BCBG05A</th>\n",
       "      <th>BCBG05B</th>\n",
       "      <th>BCBG06A</th>\n",
       "      <th>BCBG06B</th>\n",
       "      <th>BCBG06C</th>\n",
       "      <th>BCBG07</th>\n",
       "      <th>BCBG08</th>\n",
       "      <th>BCBG09</th>\n",
       "      <th>BCBG10A</th>\n",
       "      <th>BCBG10B</th>\n",
       "      <th>BCBG11AA</th>\n",
       "      <th>BCBG11AB</th>\n",
       "      <th>BCBG11AC</th>\n",
       "      <th>BCBG11AD</th>\n",
       "      <th>BCBG11AE</th>\n",
       "      <th>BCBG11AF</th>\n",
       "      <th>BCBG11AG</th>\n",
       "      <th>BCBG11AH</th>\n",
       "      <th>BCBG11AI</th>\n",
       "      <th>BCBG11BA</th>\n",
       "      <th>BCBG11BB</th>\n",
       "      <th>BCBG11BC</th>\n",
       "      <th>BCBG11BD</th>\n",
       "      <th>BCBG11BE</th>\n",
       "      <th>BCBG11CA</th>\n",
       "      <th>BCBG11CB</th>\n",
       "      <th>BCBG11CC</th>\n",
       "      <th>BCBG11CD</th>\n",
       "      <th>BCBG11CE</th>\n",
       "      <th>BCBG12A</th>\n",
       "      <th>BCBG12B</th>\n",
       "      <th>BCBG12C</th>\n",
       "      <th>BCBG12D</th>\n",
       "      <th>BCBG12E</th>\n",
       "      <th>BCBG12F</th>\n",
       "      <th>BCBG12G</th>\n",
       "      <th>BCBG12H</th>\n",
       "      <th>BCBG12I</th>\n",
       "      <th>BCBG12J</th>\n",
       "      <th>BCBG12K</th>\n",
       "      <th>BCBG13A</th>\n",
       "      <th>BCBG13B</th>\n",
       "      <th>BCBG13C</th>\n",
       "      <th>BCBG13D</th>\n",
       "      <th>BCBG14A</th>\n",
       "      <th>BCBG14B</th>\n",
       "      <th>BCBG14C</th>\n",
       "      <th>BCBG14D</th>\n",
       "      <th>BCBG14E</th>\n",
       "      <th>BCBG14F</th>\n",
       "      <th>BCBG14G</th>\n",
       "      <th>BCBG14H</th>\n",
       "      <th>BCBG15A</th>\n",
       "      <th>BCBG15B</th>\n",
       "      <th>BCBG15C</th>\n",
       "      <th>BCBG15D</th>\n",
       "      <th>BCBG15E</th>\n",
       "      <th>BCBG15F</th>\n",
       "      <th>BCBG15G</th>\n",
       "      <th>BCBG15H</th>\n",
       "      <th>BCBG15I</th>\n",
       "      <th>BCBG15J</th>\n",
       "      <th>BCBG15K</th>\n",
       "      <th>BCBG16A</th>\n",
       "      <th>BCBG16B</th>\n",
       "      <th>BCBG17</th>\n",
       "      <th>BCBG18</th>\n",
       "      <th>BCBG19</th>\n",
       "      <th>BCBG20A</th>\n",
       "      <th>BCBG20B</th>\n",
       "      <th>BCBG20C</th>\n",
       "      <th>BCBG21A</th>\n",
       "      <th>BCBG21B</th>\n",
       "      <th>BCBG21C</th>\n",
       "      <th>BCBG21D</th>\n",
       "      <th>JKCZONE</th>\n",
       "      <th>JKCREP</th>\n",
       "      <th>SCHWGT</th>\n",
       "      <th>STOTWGTU</th>\n",
       "      <th>WGTFAC1</th>\n",
       "      <th>WGTADJ1</th>\n",
       "      <th>BCDGMRS</th>\n",
       "      <th>BCBGMRS</th>\n",
       "      <th>BCDGSRS</th>\n",
       "      <th>BCBGSRS</th>\n",
       "      <th>BCDGEAS</th>\n",
       "      <th>BCBGEAS</th>\n",
       "      <th>BCDGDAS</th>\n",
       "      <th>BCBGDAS</th>\n",
       "      <th>BCDGSBC</th>\n",
       "      <th>BCDGTIHY</th>\n",
       "      <th>VERSION</th>\n",
       "      <th>SCOPE</th>\n",
       "    </tr>\n",
       "  </thead>\n",
       "  <tbody>\n",
       "    <tr>\n",
       "      <th>0</th>\n",
       "      <td>IRL</td>\n",
       "      <td>372.0</td>\n",
       "      <td>2.0</td>\n",
       "      <td>2.0</td>\n",
       "      <td>8.0</td>\n",
       "      <td>5001.0</td>\n",
       "      <td>1.0</td>\n",
       "      <td>6153.0</td>\n",
       "      <td>4.0</td>\n",
       "      <td>1.0</td>\n",
       "      <td>2.0</td>\n",
       "      <td>3.0</td>\n",
       "      <td>3.0</td>\n",
       "      <td>166.0</td>\n",
       "      <td>NaN</td>\n",
       "      <td>4.0</td>\n",
       "      <td>90.0</td>\n",
       "      <td>1.0</td>\n",
       "      <td>1.0</td>\n",
       "      <td>1.0</td>\n",
       "      <td>1.0</td>\n",
       "      <td>2.0</td>\n",
       "      <td>1.0</td>\n",
       "      <td>2.0</td>\n",
       "      <td>1.0</td>\n",
       "      <td>2.0</td>\n",
       "      <td>2.0</td>\n",
       "      <td>2.0</td>\n",
       "      <td>3.0</td>\n",
       "      <td>3.0</td>\n",
       "      <td>2.0</td>\n",
       "      <td>2.0</td>\n",
       "      <td>3.0</td>\n",
       "      <td>1.0</td>\n",
       "      <td>3.0</td>\n",
       "      <td>1.0</td>\n",
       "      <td>1.0</td>\n",
       "      <td>2.0</td>\n",
       "      <td>1.0</td>\n",
       "      <td>2.0</td>\n",
       "      <td>1.0</td>\n",
       "      <td>1.0</td>\n",
       "      <td>2.0</td>\n",
       "      <td>2.0</td>\n",
       "      <td>4.0</td>\n",
       "      <td>4.0</td>\n",
       "      <td>2.0</td>\n",
       "      <td>3.0</td>\n",
       "      <td>3.0</td>\n",
       "      <td>3.0</td>\n",
       "      <td>2.0</td>\n",
       "      <td>1.0</td>\n",
       "      <td>2.0</td>\n",
       "      <td>2.0</td>\n",
       "      <td>1.0</td>\n",
       "      <td>2.0</td>\n",
       "      <td>1.0</td>\n",
       "      <td>2.0</td>\n",
       "      <td>1.0</td>\n",
       "      <td>1.0</td>\n",
       "      <td>1.0</td>\n",
       "      <td>1.0</td>\n",
       "      <td>1.0</td>\n",
       "      <td>2.0</td>\n",
       "      <td>2.0</td>\n",
       "      <td>2.0</td>\n",
       "      <td>1.0</td>\n",
       "      <td>2.0</td>\n",
       "      <td>1.0</td>\n",
       "      <td>2.0</td>\n",
       "      <td>2.0</td>\n",
       "      <td>2.0</td>\n",
       "      <td>1.0</td>\n",
       "      <td>1.0</td>\n",
       "      <td>2.0</td>\n",
       "      <td>1.0</td>\n",
       "      <td>12.0</td>\n",
       "      <td>11.0</td>\n",
       "      <td>4.0</td>\n",
       "      <td>1.0</td>\n",
       "      <td>2.0</td>\n",
       "      <td>2.0</td>\n",
       "      <td>3.0</td>\n",
       "      <td>3.0</td>\n",
       "      <td>1.0</td>\n",
       "      <td>1.0</td>\n",
       "      <td>72.0</td>\n",
       "      <td>1.0</td>\n",
       "      <td>4.625</td>\n",
       "      <td>374.625</td>\n",
       "      <td>4.625</td>\n",
       "      <td>1.0</td>\n",
       "      <td>2.0</td>\n",
       "      <td>9.95503</td>\n",
       "      <td>2.0</td>\n",
       "      <td>10.63568</td>\n",
       "      <td>2.0</td>\n",
       "      <td>9.83877</td>\n",
       "      <td>2.0</td>\n",
       "      <td>10.10097</td>\n",
       "      <td>3.0</td>\n",
       "      <td>NaN</td>\n",
       "      <td>4.0</td>\n",
       "      <td>1.0</td>\n",
       "    </tr>\n",
       "    <tr>\n",
       "      <th>1</th>\n",
       "      <td>IRL</td>\n",
       "      <td>372.0</td>\n",
       "      <td>2.0</td>\n",
       "      <td>2.0</td>\n",
       "      <td>8.0</td>\n",
       "      <td>5002.0</td>\n",
       "      <td>1.0</td>\n",
       "      <td>6153.0</td>\n",
       "      <td>3.0</td>\n",
       "      <td>2.0</td>\n",
       "      <td>3.0</td>\n",
       "      <td>5.0</td>\n",
       "      <td>3.0</td>\n",
       "      <td>168.0</td>\n",
       "      <td>360.0</td>\n",
       "      <td>3.0</td>\n",
       "      <td>176.0</td>\n",
       "      <td>1.0</td>\n",
       "      <td>1.0</td>\n",
       "      <td>1.0</td>\n",
       "      <td>1.0</td>\n",
       "      <td>1.0</td>\n",
       "      <td>1.0</td>\n",
       "      <td>1.0</td>\n",
       "      <td>1.0</td>\n",
       "      <td>1.0</td>\n",
       "      <td>2.0</td>\n",
       "      <td>1.0</td>\n",
       "      <td>2.0</td>\n",
       "      <td>1.0</td>\n",
       "      <td>1.0</td>\n",
       "      <td>1.0</td>\n",
       "      <td>1.0</td>\n",
       "      <td>1.0</td>\n",
       "      <td>1.0</td>\n",
       "      <td>1.0</td>\n",
       "      <td>1.0</td>\n",
       "      <td>1.0</td>\n",
       "      <td>1.0</td>\n",
       "      <td>1.0</td>\n",
       "      <td>1.0</td>\n",
       "      <td>1.0</td>\n",
       "      <td>1.0</td>\n",
       "      <td>1.0</td>\n",
       "      <td>1.0</td>\n",
       "      <td>1.0</td>\n",
       "      <td>1.0</td>\n",
       "      <td>1.0</td>\n",
       "      <td>1.0</td>\n",
       "      <td>1.0</td>\n",
       "      <td>1.0</td>\n",
       "      <td>1.0</td>\n",
       "      <td>1.0</td>\n",
       "      <td>1.0</td>\n",
       "      <td>1.0</td>\n",
       "      <td>1.0</td>\n",
       "      <td>2.0</td>\n",
       "      <td>2.0</td>\n",
       "      <td>1.0</td>\n",
       "      <td>1.0</td>\n",
       "      <td>2.0</td>\n",
       "      <td>2.0</td>\n",
       "      <td>2.0</td>\n",
       "      <td>1.0</td>\n",
       "      <td>1.0</td>\n",
       "      <td>1.0</td>\n",
       "      <td>1.0</td>\n",
       "      <td>1.0</td>\n",
       "      <td>1.0</td>\n",
       "      <td>1.0</td>\n",
       "      <td>1.0</td>\n",
       "      <td>1.0</td>\n",
       "      <td>1.0</td>\n",
       "      <td>1.0</td>\n",
       "      <td>1.0</td>\n",
       "      <td>1.0</td>\n",
       "      <td>1.0</td>\n",
       "      <td>1.0</td>\n",
       "      <td>3.0</td>\n",
       "      <td>1.0</td>\n",
       "      <td>1.0</td>\n",
       "      <td>2.0</td>\n",
       "      <td>3.0</td>\n",
       "      <td>3.0</td>\n",
       "      <td>1.0</td>\n",
       "      <td>1.0</td>\n",
       "      <td>72.0</td>\n",
       "      <td>0.0</td>\n",
       "      <td>4.625</td>\n",
       "      <td>351.500</td>\n",
       "      <td>4.625</td>\n",
       "      <td>1.0</td>\n",
       "      <td>1.0</td>\n",
       "      <td>12.35385</td>\n",
       "      <td>1.0</td>\n",
       "      <td>12.60240</td>\n",
       "      <td>1.0</td>\n",
       "      <td>16.29911</td>\n",
       "      <td>1.0</td>\n",
       "      <td>13.79710</td>\n",
       "      <td>3.0</td>\n",
       "      <td>1008.0</td>\n",
       "      <td>4.0</td>\n",
       "      <td>1.0</td>\n",
       "    </tr>\n",
       "    <tr>\n",
       "      <th>2</th>\n",
       "      <td>IRL</td>\n",
       "      <td>372.0</td>\n",
       "      <td>2.0</td>\n",
       "      <td>2.0</td>\n",
       "      <td>8.0</td>\n",
       "      <td>5003.0</td>\n",
       "      <td>1.0</td>\n",
       "      <td>6153.0</td>\n",
       "      <td>3.0</td>\n",
       "      <td>3.0</td>\n",
       "      <td>2.0</td>\n",
       "      <td>1.0</td>\n",
       "      <td>1.0</td>\n",
       "      <td>166.0</td>\n",
       "      <td>360.0</td>\n",
       "      <td>4.0</td>\n",
       "      <td>96.0</td>\n",
       "      <td>1.0</td>\n",
       "      <td>1.0</td>\n",
       "      <td>1.0</td>\n",
       "      <td>1.0</td>\n",
       "      <td>1.0</td>\n",
       "      <td>1.0</td>\n",
       "      <td>1.0</td>\n",
       "      <td>2.0</td>\n",
       "      <td>1.0</td>\n",
       "      <td>1.0</td>\n",
       "      <td>1.0</td>\n",
       "      <td>2.0</td>\n",
       "      <td>2.0</td>\n",
       "      <td>1.0</td>\n",
       "      <td>1.0</td>\n",
       "      <td>2.0</td>\n",
       "      <td>1.0</td>\n",
       "      <td>2.0</td>\n",
       "      <td>1.0</td>\n",
       "      <td>1.0</td>\n",
       "      <td>2.0</td>\n",
       "      <td>1.0</td>\n",
       "      <td>1.0</td>\n",
       "      <td>1.0</td>\n",
       "      <td>1.0</td>\n",
       "      <td>1.0</td>\n",
       "      <td>1.0</td>\n",
       "      <td>5.0</td>\n",
       "      <td>4.0</td>\n",
       "      <td>1.0</td>\n",
       "      <td>4.0</td>\n",
       "      <td>1.0</td>\n",
       "      <td>4.0</td>\n",
       "      <td>2.0</td>\n",
       "      <td>1.0</td>\n",
       "      <td>1.0</td>\n",
       "      <td>1.0</td>\n",
       "      <td>1.0</td>\n",
       "      <td>2.0</td>\n",
       "      <td>2.0</td>\n",
       "      <td>2.0</td>\n",
       "      <td>2.0</td>\n",
       "      <td>2.0</td>\n",
       "      <td>2.0</td>\n",
       "      <td>2.0</td>\n",
       "      <td>1.0</td>\n",
       "      <td>3.0</td>\n",
       "      <td>3.0</td>\n",
       "      <td>2.0</td>\n",
       "      <td>2.0</td>\n",
       "      <td>1.0</td>\n",
       "      <td>1.0</td>\n",
       "      <td>1.0</td>\n",
       "      <td>2.0</td>\n",
       "      <td>1.0</td>\n",
       "      <td>1.0</td>\n",
       "      <td>1.0</td>\n",
       "      <td>1.0</td>\n",
       "      <td>1.0</td>\n",
       "      <td>3.0</td>\n",
       "      <td>3.0</td>\n",
       "      <td>3.0</td>\n",
       "      <td>1.0</td>\n",
       "      <td>1.0</td>\n",
       "      <td>2.0</td>\n",
       "      <td>3.0</td>\n",
       "      <td>NaN</td>\n",
       "      <td>3.0</td>\n",
       "      <td>1.0</td>\n",
       "      <td>35.0</td>\n",
       "      <td>0.0</td>\n",
       "      <td>4.625</td>\n",
       "      <td>319.125</td>\n",
       "      <td>4.625</td>\n",
       "      <td>1.0</td>\n",
       "      <td>1.0</td>\n",
       "      <td>11.57754</td>\n",
       "      <td>1.0</td>\n",
       "      <td>12.13403</td>\n",
       "      <td>2.0</td>\n",
       "      <td>10.75751</td>\n",
       "      <td>2.0</td>\n",
       "      <td>10.10097</td>\n",
       "      <td>2.0</td>\n",
       "      <td>996.0</td>\n",
       "      <td>4.0</td>\n",
       "      <td>1.0</td>\n",
       "    </tr>\n",
       "    <tr>\n",
       "      <th>3</th>\n",
       "      <td>IRL</td>\n",
       "      <td>372.0</td>\n",
       "      <td>2.0</td>\n",
       "      <td>2.0</td>\n",
       "      <td>8.0</td>\n",
       "      <td>5004.0</td>\n",
       "      <td>1.0</td>\n",
       "      <td>6153.0</td>\n",
       "      <td>1.0</td>\n",
       "      <td>4.0</td>\n",
       "      <td>3.0</td>\n",
       "      <td>1.0</td>\n",
       "      <td>2.0</td>\n",
       "      <td>NaN</td>\n",
       "      <td>360.0</td>\n",
       "      <td>3.0</td>\n",
       "      <td>40.0</td>\n",
       "      <td>1.0</td>\n",
       "      <td>1.0</td>\n",
       "      <td>1.0</td>\n",
       "      <td>1.0</td>\n",
       "      <td>1.0</td>\n",
       "      <td>1.0</td>\n",
       "      <td>1.0</td>\n",
       "      <td>1.0</td>\n",
       "      <td>1.0</td>\n",
       "      <td>2.0</td>\n",
       "      <td>2.0</td>\n",
       "      <td>2.0</td>\n",
       "      <td>2.0</td>\n",
       "      <td>1.0</td>\n",
       "      <td>1.0</td>\n",
       "      <td>1.0</td>\n",
       "      <td>1.0</td>\n",
       "      <td>1.0</td>\n",
       "      <td>2.0</td>\n",
       "      <td>2.0</td>\n",
       "      <td>1.0</td>\n",
       "      <td>1.0</td>\n",
       "      <td>1.0</td>\n",
       "      <td>1.0</td>\n",
       "      <td>1.0</td>\n",
       "      <td>1.0</td>\n",
       "      <td>1.0</td>\n",
       "      <td>1.0</td>\n",
       "      <td>1.0</td>\n",
       "      <td>1.0</td>\n",
       "      <td>1.0</td>\n",
       "      <td>1.0</td>\n",
       "      <td>1.0</td>\n",
       "      <td>1.0</td>\n",
       "      <td>2.0</td>\n",
       "      <td>2.0</td>\n",
       "      <td>2.0</td>\n",
       "      <td>2.0</td>\n",
       "      <td>2.0</td>\n",
       "      <td>2.0</td>\n",
       "      <td>1.0</td>\n",
       "      <td>2.0</td>\n",
       "      <td>1.0</td>\n",
       "      <td>2.0</td>\n",
       "      <td>2.0</td>\n",
       "      <td>2.0</td>\n",
       "      <td>1.0</td>\n",
       "      <td>1.0</td>\n",
       "      <td>2.0</td>\n",
       "      <td>1.0</td>\n",
       "      <td>1.0</td>\n",
       "      <td>1.0</td>\n",
       "      <td>1.0</td>\n",
       "      <td>1.0</td>\n",
       "      <td>1.0</td>\n",
       "      <td>1.0</td>\n",
       "      <td>1.0</td>\n",
       "      <td>1.0</td>\n",
       "      <td>1.0</td>\n",
       "      <td>NaN</td>\n",
       "      <td>NaN</td>\n",
       "      <td>NaN</td>\n",
       "      <td>NaN</td>\n",
       "      <td>NaN</td>\n",
       "      <td>NaN</td>\n",
       "      <td>NaN</td>\n",
       "      <td>NaN</td>\n",
       "      <td>NaN</td>\n",
       "      <td>NaN</td>\n",
       "      <td>42.0</td>\n",
       "      <td>1.0</td>\n",
       "      <td>3.500</td>\n",
       "      <td>280.000</td>\n",
       "      <td>3.500</td>\n",
       "      <td>1.0</td>\n",
       "      <td>1.0</td>\n",
       "      <td>11.91488</td>\n",
       "      <td>1.0</td>\n",
       "      <td>11.47959</td>\n",
       "      <td>1.0</td>\n",
       "      <td>16.29911</td>\n",
       "      <td>1.0</td>\n",
       "      <td>12.65667</td>\n",
       "      <td>1.0</td>\n",
       "      <td>NaN</td>\n",
       "      <td>4.0</td>\n",
       "      <td>1.0</td>\n",
       "    </tr>\n",
       "    <tr>\n",
       "      <th>4</th>\n",
       "      <td>IRL</td>\n",
       "      <td>372.0</td>\n",
       "      <td>2.0</td>\n",
       "      <td>2.0</td>\n",
       "      <td>8.0</td>\n",
       "      <td>5005.0</td>\n",
       "      <td>1.0</td>\n",
       "      <td>6153.0</td>\n",
       "      <td>2.0</td>\n",
       "      <td>4.0</td>\n",
       "      <td>1.0</td>\n",
       "      <td>6.0</td>\n",
       "      <td>4.0</td>\n",
       "      <td>166.0</td>\n",
       "      <td>348.0</td>\n",
       "      <td>3.0</td>\n",
       "      <td>60.0</td>\n",
       "      <td>1.0</td>\n",
       "      <td>1.0</td>\n",
       "      <td>1.0</td>\n",
       "      <td>1.0</td>\n",
       "      <td>1.0</td>\n",
       "      <td>1.0</td>\n",
       "      <td>1.0</td>\n",
       "      <td>1.0</td>\n",
       "      <td>2.0</td>\n",
       "      <td>1.0</td>\n",
       "      <td>2.0</td>\n",
       "      <td>1.0</td>\n",
       "      <td>1.0</td>\n",
       "      <td>1.0</td>\n",
       "      <td>1.0</td>\n",
       "      <td>1.0</td>\n",
       "      <td>1.0</td>\n",
       "      <td>1.0</td>\n",
       "      <td>2.0</td>\n",
       "      <td>1.0</td>\n",
       "      <td>1.0</td>\n",
       "      <td>1.0</td>\n",
       "      <td>1.0</td>\n",
       "      <td>2.0</td>\n",
       "      <td>1.0</td>\n",
       "      <td>1.0</td>\n",
       "      <td>1.0</td>\n",
       "      <td>2.0</td>\n",
       "      <td>2.0</td>\n",
       "      <td>2.0</td>\n",
       "      <td>2.0</td>\n",
       "      <td>2.0</td>\n",
       "      <td>2.0</td>\n",
       "      <td>2.0</td>\n",
       "      <td>1.0</td>\n",
       "      <td>2.0</td>\n",
       "      <td>2.0</td>\n",
       "      <td>1.0</td>\n",
       "      <td>2.0</td>\n",
       "      <td>2.0</td>\n",
       "      <td>3.0</td>\n",
       "      <td>2.0</td>\n",
       "      <td>3.0</td>\n",
       "      <td>3.0</td>\n",
       "      <td>2.0</td>\n",
       "      <td>3.0</td>\n",
       "      <td>2.0</td>\n",
       "      <td>3.0</td>\n",
       "      <td>2.0</td>\n",
       "      <td>1.0</td>\n",
       "      <td>1.0</td>\n",
       "      <td>1.0</td>\n",
       "      <td>1.0</td>\n",
       "      <td>2.0</td>\n",
       "      <td>1.0</td>\n",
       "      <td>2.0</td>\n",
       "      <td>1.0</td>\n",
       "      <td>1.0</td>\n",
       "      <td>1.0</td>\n",
       "      <td>4.0</td>\n",
       "      <td>4.0</td>\n",
       "      <td>3.0</td>\n",
       "      <td>1.0</td>\n",
       "      <td>2.0</td>\n",
       "      <td>2.0</td>\n",
       "      <td>3.0</td>\n",
       "      <td>3.0</td>\n",
       "      <td>1.0</td>\n",
       "      <td>1.0</td>\n",
       "      <td>59.0</td>\n",
       "      <td>1.0</td>\n",
       "      <td>3.500</td>\n",
       "      <td>525.000</td>\n",
       "      <td>3.500</td>\n",
       "      <td>1.0</td>\n",
       "      <td>1.0</td>\n",
       "      <td>12.35385</td>\n",
       "      <td>1.0</td>\n",
       "      <td>12.13403</td>\n",
       "      <td>2.0</td>\n",
       "      <td>12.24516</td>\n",
       "      <td>2.0</td>\n",
       "      <td>10.42355</td>\n",
       "      <td>1.0</td>\n",
       "      <td>962.8</td>\n",
       "      <td>4.0</td>\n",
       "      <td>1.0</td>\n",
       "    </tr>\n",
       "  </tbody>\n",
       "</table>\n",
       "</div>"
      ],
      "text/plain": [
       "   CTY  IDCNTRY  IDPOP  IDGRADER  IDGRADE  IDSCHOOL  ITLANG_CQ  LCID_CQ  \\\n",
       "0  IRL    372.0    2.0       2.0      8.0    5001.0        1.0   6153.0   \n",
       "1  IRL    372.0    2.0       2.0      8.0    5002.0        1.0   6153.0   \n",
       "2  IRL    372.0    2.0       2.0      8.0    5003.0        1.0   6153.0   \n",
       "3  IRL    372.0    2.0       2.0      8.0    5004.0        1.0   6153.0   \n",
       "4  IRL    372.0    2.0       2.0      8.0    5005.0        1.0   6153.0   \n",
       "\n",
       "   BCBG03A  BCBG03B  BCBG04  BCBG05A  BCBG05B  BCBG06A  BCBG06B  BCBG06C  \\\n",
       "0      4.0      1.0     2.0      3.0      3.0    166.0      NaN      4.0   \n",
       "1      3.0      2.0     3.0      5.0      3.0    168.0    360.0      3.0   \n",
       "2      3.0      3.0     2.0      1.0      1.0    166.0    360.0      4.0   \n",
       "3      1.0      4.0     3.0      1.0      2.0      NaN    360.0      3.0   \n",
       "4      2.0      4.0     1.0      6.0      4.0    166.0    348.0      3.0   \n",
       "\n",
       "   BCBG07  BCBG08  BCBG09  BCBG10A  BCBG10B  BCBG11AA  BCBG11AB  BCBG11AC  \\\n",
       "0    90.0     1.0     1.0      1.0      1.0       2.0       1.0       2.0   \n",
       "1   176.0     1.0     1.0      1.0      1.0       1.0       1.0       1.0   \n",
       "2    96.0     1.0     1.0      1.0      1.0       1.0       1.0       1.0   \n",
       "3    40.0     1.0     1.0      1.0      1.0       1.0       1.0       1.0   \n",
       "4    60.0     1.0     1.0      1.0      1.0       1.0       1.0       1.0   \n",
       "\n",
       "   BCBG11AD  BCBG11AE  BCBG11AF  BCBG11AG  BCBG11AH  BCBG11AI  BCBG11BA  \\\n",
       "0       1.0       2.0       2.0       2.0       3.0       3.0       2.0   \n",
       "1       1.0       1.0       2.0       1.0       2.0       1.0       1.0   \n",
       "2       2.0       1.0       1.0       1.0       2.0       2.0       1.0   \n",
       "3       1.0       1.0       2.0       2.0       2.0       2.0       1.0   \n",
       "4       1.0       2.0       1.0       2.0       1.0       1.0       1.0   \n",
       "\n",
       "   BCBG11BB  BCBG11BC  BCBG11BD  BCBG11BE  BCBG11CA  BCBG11CB  BCBG11CC  \\\n",
       "0       2.0       3.0       1.0       3.0       1.0       1.0       2.0   \n",
       "1       1.0       1.0       1.0       1.0       1.0       1.0       1.0   \n",
       "2       1.0       2.0       1.0       2.0       1.0       1.0       2.0   \n",
       "3       1.0       1.0       1.0       1.0       2.0       2.0       1.0   \n",
       "4       1.0       1.0       1.0       1.0       2.0       1.0       1.0   \n",
       "\n",
       "   BCBG11CD  BCBG11CE  BCBG12A  BCBG12B  BCBG12C  BCBG12D  BCBG12E  BCBG12F  \\\n",
       "0       1.0       2.0      1.0      1.0      2.0      2.0      4.0      4.0   \n",
       "1       1.0       1.0      1.0      1.0      1.0      1.0      1.0      1.0   \n",
       "2       1.0       1.0      1.0      1.0      1.0      1.0      5.0      4.0   \n",
       "3       1.0       1.0      1.0      1.0      1.0      1.0      1.0      1.0   \n",
       "4       1.0       1.0      2.0      1.0      1.0      1.0      2.0      2.0   \n",
       "\n",
       "   BCBG12G  BCBG12H  BCBG12I  BCBG12J  BCBG12K  BCBG13A  BCBG13B  BCBG13C  \\\n",
       "0      2.0      3.0      3.0      3.0      2.0      1.0      2.0      2.0   \n",
       "1      1.0      1.0      1.0      1.0      1.0      1.0      1.0      1.0   \n",
       "2      1.0      4.0      1.0      4.0      2.0      1.0      1.0      1.0   \n",
       "3      1.0      1.0      1.0      1.0      1.0      2.0      2.0      2.0   \n",
       "4      2.0      2.0      2.0      2.0      2.0      1.0      2.0      2.0   \n",
       "\n",
       "   BCBG13D  BCBG14A  BCBG14B  BCBG14C  BCBG14D  BCBG14E  BCBG14F  BCBG14G  \\\n",
       "0      1.0      2.0      1.0      2.0      1.0      1.0      1.0      1.0   \n",
       "1      1.0      1.0      2.0      2.0      1.0      1.0      2.0      2.0   \n",
       "2      1.0      2.0      2.0      2.0      2.0      2.0      2.0      2.0   \n",
       "3      2.0      2.0      2.0      1.0      2.0      1.0      2.0      2.0   \n",
       "4      1.0      2.0      2.0      3.0      2.0      3.0      3.0      2.0   \n",
       "\n",
       "   BCBG14H  BCBG15A  BCBG15B  BCBG15C  BCBG15D  BCBG15E  BCBG15F  BCBG15G  \\\n",
       "0      1.0      2.0      2.0      2.0      1.0      2.0      1.0      2.0   \n",
       "1      2.0      1.0      1.0      1.0      1.0      1.0      1.0      1.0   \n",
       "2      1.0      3.0      3.0      2.0      2.0      1.0      1.0      1.0   \n",
       "3      2.0      1.0      1.0      2.0      1.0      1.0      1.0      1.0   \n",
       "4      3.0      2.0      3.0      2.0      1.0      1.0      1.0      1.0   \n",
       "\n",
       "   BCBG15H  BCBG15I  BCBG15J  BCBG15K  BCBG16A  BCBG16B  BCBG17  BCBG18  \\\n",
       "0      2.0      2.0      1.0      1.0      2.0      1.0    12.0    11.0   \n",
       "1      1.0      1.0      1.0      1.0      1.0      1.0     1.0     1.0   \n",
       "2      2.0      1.0      1.0      1.0      1.0      1.0     3.0     3.0   \n",
       "3      1.0      1.0      1.0      1.0      1.0      1.0     NaN     NaN   \n",
       "4      2.0      1.0      2.0      1.0      1.0      1.0     4.0     4.0   \n",
       "\n",
       "   BCBG19  BCBG20A  BCBG20B  BCBG20C  BCBG21A  BCBG21B  BCBG21C  BCBG21D  \\\n",
       "0     4.0      1.0      2.0      2.0      3.0      3.0      1.0      1.0   \n",
       "1     3.0      1.0      1.0      2.0      3.0      3.0      1.0      1.0   \n",
       "2     3.0      1.0      1.0      2.0      3.0      NaN      3.0      1.0   \n",
       "3     NaN      NaN      NaN      NaN      NaN      NaN      NaN      NaN   \n",
       "4     3.0      1.0      2.0      2.0      3.0      3.0      1.0      1.0   \n",
       "\n",
       "   JKCZONE  JKCREP  SCHWGT  STOTWGTU  WGTFAC1  WGTADJ1  BCDGMRS   BCBGMRS  \\\n",
       "0     72.0     1.0   4.625   374.625    4.625      1.0      2.0   9.95503   \n",
       "1     72.0     0.0   4.625   351.500    4.625      1.0      1.0  12.35385   \n",
       "2     35.0     0.0   4.625   319.125    4.625      1.0      1.0  11.57754   \n",
       "3     42.0     1.0   3.500   280.000    3.500      1.0      1.0  11.91488   \n",
       "4     59.0     1.0   3.500   525.000    3.500      1.0      1.0  12.35385   \n",
       "\n",
       "   BCDGSRS   BCBGSRS  BCDGEAS   BCBGEAS  BCDGDAS   BCBGDAS  BCDGSBC  BCDGTIHY  \\\n",
       "0      2.0  10.63568      2.0   9.83877      2.0  10.10097      3.0       NaN   \n",
       "1      1.0  12.60240      1.0  16.29911      1.0  13.79710      3.0    1008.0   \n",
       "2      1.0  12.13403      2.0  10.75751      2.0  10.10097      2.0     996.0   \n",
       "3      1.0  11.47959      1.0  16.29911      1.0  12.65667      1.0       NaN   \n",
       "4      1.0  12.13403      2.0  12.24516      2.0  10.42355      1.0     962.8   \n",
       "\n",
       "   VERSION  SCOPE  \n",
       "0      4.0    1.0  \n",
       "1      4.0    1.0  \n",
       "2      4.0    1.0  \n",
       "3      4.0    1.0  \n",
       "4      4.0    1.0  "
      ]
     },
     "execution_count": 18,
     "metadata": {},
     "output_type": "execute_result"
    }
   ],
   "source": [
    "df_s.head()"
   ]
  },
  {
   "cell_type": "code",
   "execution_count": 55,
   "metadata": {},
   "outputs": [
    {
     "data": {
      "text/plain": [
       "CTY          object\n",
       "IDCNTRY     float64\n",
       "IDPOP       float64\n",
       "IDGRADER    float64\n",
       "IDGRADE     float64\n",
       "             ...   \n",
       "BCBGDAS     float64\n",
       "BCDGSBC     float64\n",
       "BCDGTIHY    float64\n",
       "VERSION     float64\n",
       "SCOPE       float64\n",
       "Length: 104, dtype: object"
      ]
     },
     "execution_count": 55,
     "metadata": {},
     "output_type": "execute_result"
    }
   ],
   "source": [
    "df_s.dtypes"
   ]
  },
  {
   "cell_type": "markdown",
   "metadata": {},
   "source": [
    "The `metadata_container` stores meta information about the dataset and each column such as the type of data, the different names and labelling of columns, the encoding of values in the column. \n",
    "\n",
    "Use python `dir` to list public (do not start with '_') functions in `meta`. "
   ]
  },
  {
   "cell_type": "code",
   "execution_count": 19,
   "metadata": {},
   "outputs": [
    {
     "data": {
      "text/plain": [
       "['column_labels',\n",
       " 'column_names',\n",
       " 'column_names_to_labels',\n",
       " 'creation_time',\n",
       " 'file_encoding',\n",
       " 'file_format',\n",
       " 'file_label',\n",
       " 'missing_ranges',\n",
       " 'missing_user_values',\n",
       " 'modification_time',\n",
       " 'mr_sets',\n",
       " 'notes',\n",
       " 'number_columns',\n",
       " 'number_rows',\n",
       " 'original_variable_types',\n",
       " 'readstat_variable_types',\n",
       " 'table_name',\n",
       " 'value_labels',\n",
       " 'variable_alignment',\n",
       " 'variable_display_width',\n",
       " 'variable_measure',\n",
       " 'variable_storage_width',\n",
       " 'variable_to_label',\n",
       " 'variable_value_labels']"
      ]
     },
     "execution_count": 19,
     "metadata": {},
     "output_type": "execute_result"
    }
   ],
   "source": [
    "[s for s in dir(meta) if s[0]!='_']"
   ]
  },
  {
   "cell_type": "markdown",
   "metadata": {},
   "source": [
    "Some of the above functions might be useful. But my `get_property` function, defined above, covers nearly all my needs."
   ]
  },
  {
   "cell_type": "markdown",
   "metadata": {},
   "source": [
    "## Reversing label encoding "
   ]
  },
  {
   "cell_type": "markdown",
   "metadata": {},
   "source": [
    "The two dataframe, `df_p` and `df_s` store similar information. In `df_s` the data has been labeled encoded. Since the mapping for that encoding is stored in `meta` the encoding can be reversed.  \n",
    "\n",
    "For example, if we take column `BCBG03A` we first perform `value_counts` to see that they store the same distribution, then we can decode the encoded values in `df_s` and verify that it is the same as the original data in `df_p`.  \n",
    "\n",
    "This is just a curiosity &mdash; we can work with the original dataset, `df_p` without looking at `df_s` &mdash; to test the functionality of `pyreadstat`."
   ]
  },
  {
   "cell_type": "code",
   "execution_count": 20,
   "metadata": {},
   "outputs": [
    {
     "name": "stdout",
     "output_type": "stream",
     "text": [
      "Column: `BCBG03A` with spss label `labels7`\n",
      "Description: `GEN\\STUDENTS BACKGROUND\\ECONOMIC DISADVA`\n"
     ]
    },
    {
     "data": {
      "text/plain": [
       "BCBG03A\n",
       "11 to 25%        50\n",
       "0 to 10%         40\n",
       "26 to 50%        24\n",
       "More than 50%    23\n",
       "NaN              16\n",
       "Name: count, dtype: int64"
      ]
     },
     "metadata": {},
     "output_type": "display_data"
    },
    {
     "data": {
      "text/plain": [
       "BCBG03A\n",
       "2.0    50\n",
       "1.0    40\n",
       "3.0    24\n",
       "4.0    23\n",
       "NaN    16\n",
       "Name: count, dtype: int64"
      ]
     },
     "metadata": {},
     "output_type": "display_data"
    }
   ],
   "source": [
    "# show same distribution\n",
    "\n",
    "column = 'BCBG03A' # pick a random column\n",
    "\n",
    "label = meta.variable_to_label[column]\n",
    "description = meta.column_names_to_labels[column]\n",
    "\n",
    "print(f\"Column: `{column}` with spss label `{label}`\")\n",
    "print(f\"Description: `{description}`\")\n",
    "\n",
    "display(df_p[column].value_counts(dropna=False))\n",
    "display(df_s[column].value_counts(dropna=False))"
   ]
  },
  {
   "cell_type": "code",
   "execution_count": 21,
   "metadata": {},
   "outputs": [
    {
     "data": {
      "text/plain": [
       "['More than 50%', '26 to 50%', '0 to 10%', '11 to 25%', NaN]\n",
       "Categories (4, object): ['0 to 10%', '11 to 25%', '26 to 50%', 'More than 50%']"
      ]
     },
     "execution_count": 21,
     "metadata": {},
     "output_type": "execute_result"
    }
   ],
   "source": [
    "df_p[column].unique()"
   ]
  },
  {
   "cell_type": "code",
   "execution_count": 22,
   "metadata": {},
   "outputs": [
    {
     "data": {
      "text/plain": [
       "array([ 4.,  3.,  1.,  2., nan])"
      ]
     },
     "execution_count": 22,
     "metadata": {},
     "output_type": "execute_result"
    }
   ],
   "source": [
    "df_s[column].unique()"
   ]
  },
  {
   "cell_type": "code",
   "execution_count": 23,
   "metadata": {},
   "outputs": [
    {
     "data": {
      "text/plain": [
       "{1.0: '0 to 10%',\n",
       " 2.0: '11 to 25%',\n",
       " 3.0: '26 to 50%',\n",
       " 4.0: 'More than 50%',\n",
       " 9.0: 'Omitted or invalid'}"
      ]
     },
     "execution_count": 23,
     "metadata": {},
     "output_type": "execute_result"
    }
   ],
   "source": [
    "decoding_mapping = meta.value_labels[label]\n",
    "decoding_mapping"
   ]
  },
  {
   "cell_type": "markdown",
   "metadata": {},
   "source": [
    "Appling the above mapping to dataFrame `df_s` should reverse the encoding and give same column as in `df_p`.  Lets test this .... "
   ]
  },
  {
   "cell_type": "code",
   "execution_count": 24,
   "metadata": {},
   "outputs": [],
   "source": [
    "series_original = df_p.dropna()[column]\n",
    "series_decoded = df_s.dropna()[column].map(decoding_mapping)\n",
    "\n",
    "assert (series_original != series_decoded).sum()==0, f\"Decoding encoded column {column} did not return original data!\""
   ]
  },
  {
   "cell_type": "markdown",
   "metadata": {},
   "source": [
    "In conclusion, `df_p`, containing the original dataset (not encoded to numbers) probably has everything that we need.  So we can ignore `df_s`.  \n",
    "\n",
    "The structure `meta` does have information that is useful, such as the description of columns, but we could get this from the codebook. \n",
    "\n",
    "So I'm going to use `pd.read_spss` to read in the datafiles."
   ]
  },
  {
   "cell_type": "markdown",
   "metadata": {},
   "source": [
    "## Cleaning\n",
    "\n",
    "For each of the datafiles, that I plan to use, I will need to clean and save as a `feather` file.\n",
    "\n",
    "Cleaning will involve:\n",
    "\n",
    "* Remove columns that contain a single value. They tell me nothing.\n",
    "* All ID columns start with `ID`? so they should be converted to `int`.\n",
    "* Categorical variables that have categories that are `float` dtype should be converted to `float`.\n",
    "* ... and on and on and on ...\n",
    "\n"
   ]
  },
  {
   "cell_type": "markdown",
   "metadata": {},
   "source": [
    "# Load the student achievement data"
   ]
  },
  {
   "cell_type": "code",
   "execution_count": 26,
   "metadata": {},
   "outputs": [
    {
     "name": "stdout",
     "output_type": "stream",
     "text": [
      "Student achievement data shape: (5090, 1145)\n"
     ]
    }
   ],
   "source": [
    "df_ach = pd.read_spss(\"orig/SPSS/bsairlm8.sav\")\n",
    "print(f\"Student achievement data shape: {df_ach.shape}\")"
   ]
  },
  {
   "cell_type": "markdown",
   "metadata": {},
   "source": [
    "# Load student background data"
   ]
  },
  {
   "cell_type": "code",
   "execution_count": 27,
   "metadata": {},
   "outputs": [
    {
     "name": "stdout",
     "output_type": "stream",
     "text": [
      "Student background data shape: (5090, 511)\n"
     ]
    }
   ],
   "source": [
    "df_bg = pd.read_spss(\"orig/SPSS/bsgirlm8.sav\") \n",
    "print(f\"Student background data shape: {df_bg.shape}\")"
   ]
  },
  {
   "cell_type": "markdown",
   "metadata": {},
   "source": [
    "# Find common ID columns for merging"
   ]
  },
  {
   "cell_type": "code",
   "execution_count": 28,
   "metadata": {},
   "outputs": [
    {
     "name": "stdout",
     "output_type": "stream",
     "text": [
      "Common ID columns: ['IDCNTRY', 'IDPOP', 'IDSTUD', 'IDGRADE', 'IDSCHOOL', 'IDCLASS', 'IDBOOK', 'IDGRADER']\n"
     ]
    }
   ],
   "source": [
    "ach_cols = set(df_ach.columns)\n",
    "bg_cols = set(df_bg.columns)\n",
    "common_cols = ach_cols.intersection(bg_cols)\n",
    "id_cols = [col for col in common_cols if col.startswith('ID')]\n",
    "print(f\"Common ID columns: {id_cols}\")"
   ]
  },
  {
   "cell_type": "markdown",
   "metadata": {},
   "source": [
    "I've loaded the student achievement data (math scores) and the student background data (contextual information). I've also identified the common ID columns between these datasets, which i'll use for merging."
   ]
  },
  {
   "cell_type": "markdown",
   "metadata": {},
   "source": [
    "Next i'll identify the variables related to math achievement from the achievement dataset."
   ]
  },
  {
   "cell_type": "markdown",
   "metadata": {},
   "source": [
    "# Find math achievement variables"
   ]
  },
  {
   "cell_type": "code",
   "execution_count": 29,
   "metadata": {},
   "outputs": [
    {
     "name": "stdout",
     "output_type": "stream",
     "text": [
      "Math achievement variables: ['BSMMAT01', 'BSMMAT02', 'BSMMAT03', 'BSMMAT04', 'BSMMAT05']\n"
     ]
    }
   ],
   "source": [
    "math_vars = [col for col in df_ach.columns if col.startswith('BSMMAT')]\n",
    "print(f\"Math achievement variables: {math_vars}\")"
   ]
  },
  {
   "cell_type": "markdown",
   "metadata": {},
   "source": [
    "# Show basic statistics for these variables"
   ]
  },
  {
   "cell_type": "code",
   "execution_count": 30,
   "metadata": {},
   "outputs": [
    {
     "name": "stdout",
     "output_type": "stream",
     "text": [
      "\n",
      "Basic statistics for math achievement:\n",
      "          BSMMAT01    BSMMAT02    BSMMAT03    BSMMAT04    BSMMAT05\n",
      "count   5090.00000  5090.00000  5090.00000  5090.00000  5090.00000\n",
      "unique  5088.00000  5087.00000  5083.00000  5080.00000  5084.00000\n",
      "top      437.39283   426.03223   500.84456   591.83273   546.53743\n",
      "freq       2.00000     2.00000     2.00000     2.00000     2.00000\n"
     ]
    }
   ],
   "source": [
    "math_stats = df_ach[math_vars].describe()\n",
    "print(\"\\nBasic statistics for math achievement:\")\n",
    "print(math_stats)"
   ]
  },
  {
   "cell_type": "markdown",
   "metadata": {},
   "source": [
    "# Visualize the distribution of math scores (first plausible value) using histplot"
   ]
  },
  {
   "cell_type": "code",
   "execution_count": 31,
   "metadata": {},
   "outputs": [
    {
     "data": {
      "image/png": "[encoded data removed]",
      "text/plain": [
       "<Figure size 1000x600 with 1 Axes>"
      ]
     },
     "metadata": {},
     "output_type": "display_data"
    }
   ],
   "source": [
    "plt.figure(figsize=(10, 6))\n",
    "sns.histplot(df_ach['BSMMAT01'], kde=True)\n",
    "plt.title('Distribution of Math Achievement Scores (BSMMAT01)')\n",
    "plt.xlabel('Score')\n",
    "plt.ylabel('Frequency')\n",
    "plt.show()"
   ]
  },
  {
   "cell_type": "markdown",
   "metadata": {},
   "source": [
    "I've identified the math achievement variables, which are named BSMMAT01 through BSMMAT05. These are the five \"plausible values\" of math achievement for each student. I've checked their basic statistics and visualized the distribution of the first plausible value (BSMMAT01)."
   ]
  },
  {
   "cell_type": "markdown",
   "metadata": {},
   "source": [
    "# Now i'll identify variables from the student background data that might be useful predictors of math achievement."
   ]
  },
  {
   "cell_type": "code",
   "execution_count": 39,
   "metadata": {},
   "outputs": [
    {
     "name": "stdout",
     "output_type": "stream",
     "text": [
      "['CTY', 'IDCNTRY', 'IDPOP', 'IDGRADER', 'IDGRADE', 'ITASSESS', 'IDBOOK', 'IDSCHOOL', 'IDCLASS', 'IDSTUD', 'ITSEX', 'BSDAGE', 'ITADMINI', 'ILRELIAB', 'ITLANG_SQ', 'LCID_SQ', 'BSBG01', 'BSBG03', 'BSBG04', 'BSBG05A', 'BSBG05B', 'BSBG05C', 'BSBG05D', 'BSBG05E', 'BSBG05F', 'BSBG05G', 'BSBG05H', 'BSBG05I', 'BSBG05J', 'BSBG06A', 'BSBG06B', 'BSBG07', 'BSBG08A', 'BSBG08B', 'BSBG09A', 'BSBG09B', 'BSBG10', 'BSBG11A', 'BSBG11B', 'BSBG12A', 'BSBG12B', 'BSBG12C', 'BSBG12D', 'BSBG12E', 'BSBG12F', 'BSBG13A', 'BSBG13B', 'BSBG13C', 'BSBG13D', 'BSBG13E', 'BSBG13F', 'BSBG13G', 'BSBG14A', 'BSBG14B', 'BSBG14C', 'BSBG14D', 'BSBG14E', 'BSBG14F', 'BSBG14G', 'BSBG14H', 'BSBG14I', 'BSBG15A', 'BSBG15B', 'BSBG15C', 'BSBG15D', 'BSBG15E', 'BSBG15F', 'BSBG16A', 'BSBG16B', 'BSBG16C', 'BSBG16D', 'BSBG16E', 'BSBG16F', 'BSBG16G', 'BSBG16H', 'BSBG17A', 'BSBG17B', 'BSBG17C', 'BSBG17D', 'BSBG17E', 'BSBG17F', 'BSBG17G', 'BSBG17H', 'BSBG17I', 'BSBG17J', 'BSBG17K', 'BSBG17L', 'BSBG17M', 'BSBG17N', 'BSBM18', 'BSBM19A', 'BSBM19B', 'BSBM19C', 'BSBM19D', 'BSBM19E', 'BSBM19F', 'BSBM19G', 'BSBM19H', 'BSBM19I', 'BSBM20A', 'BSBM20B', 'BSBM20C', 'BSBM20D', 'BSBM20E', 'BSBM20F', 'BSBM20G', 'BSBM20H', 'BSBM20I', 'BSBM20J', 'BSBM21A', 'BSBM21B', 'BSBM21C', 'BSBM21D', 'BSBM21E', 'BSBM21F', 'BSBM22A', 'BSBM22B', 'BSBM22C', 'BSBM22D', 'BSBM22E', 'BSBM22F', 'BSBM22G', 'BSBM22H', 'BSBM23A', 'BSBM23B', 'BSBM23C', 'BSBM23D', 'BSBM23E', 'BSBM23F', 'BSBM23G', 'BSBM23H', 'BSBM23I', 'BSBS24', 'BSBS25A', 'BSBS25B', 'BSBS25C', 'BSBS25D', 'BSBS25E', 'BSBS25F', 'BSBS25G', 'BSBS25H', 'BSBS25I', 'BSBS26A', 'BSBS26B', 'BSBS26C', 'BSBS26D', 'BSBS26E', 'BSBS26F', 'BSBS26G', 'BSBS26H', 'BSBS26I', 'BSBS26J', 'BSBS27A', 'BSBS27B', 'BSBS27C', 'BSBS27D', 'BSBS27E', 'BSBS27F', 'BSBS28A', 'BSBS28B', 'BSBS28C', 'BSBS28D', 'BSBS28E', 'BSBS28F', 'BSBS28G', 'BSBS28H', 'BSBS29A', 'BSBS29B', 'BSBS29C', 'BSBS29D', 'BSBS29E', 'BSBS29F', 'BSBS29G', 'BSBS29H', 'BSBS29I', 'BSBM30A', 'BSBS30B', 'BSBB24', 'BSBB25', 'BSBB26A', 'BSBB26B', 'BSBB26C', 'BSBB26D', 'BSBB26E', 'BSBB26F', 'BSBB26G', 'BSBB26H', 'BSBB26I', 'BSBB27A', 'BSBB27B', 'BSBB27C', 'BSBB27D', 'BSBB27E', 'BSBB27F', 'BSBB27G', 'BSBB27H', 'BSBB27I', 'BSBB27J', 'BSBB28A', 'BSBB28B', 'BSBB28C', 'BSBB28D', 'BSBB28E', 'BSBB28F', 'BSBB29A', 'BSBB29B', 'BSBB29C', 'BSBB29D', 'BSBB29E', 'BSBB29F', 'BSBB29G', 'BSBB29H', 'BSBE30', 'BSBE31', 'BSBE32A', 'BSBE32B', 'BSBE32C', 'BSBE32D', 'BSBE32E', 'BSBE32F', 'BSBE32G', 'BSBE32H', 'BSBE32I', 'BSBE33A', 'BSBE33B', 'BSBE33C', 'BSBE33D', 'BSBE33E', 'BSBE33F', 'BSBE33G', 'BSBE33H', 'BSBE33I', 'BSBE33J', 'BSBE34A', 'BSBE34B', 'BSBE34C', 'BSBE34D', 'BSBE34E', 'BSBE34F', 'BSBE35A', 'BSBE35B', 'BSBE35C', 'BSBE35D', 'BSBE35E', 'BSBE35F', 'BSBE35G', 'BSBE35H', 'BSBC36', 'BSBC37', 'BSBC38A', 'BSBC38B', 'BSBC38C', 'BSBC38D', 'BSBC38E', 'BSBC38F', 'BSBC38G', 'BSBC38H', 'BSBC38I', 'BSBC39A', 'BSBC39B', 'BSBC39C', 'BSBC39D', 'BSBC39E', 'BSBC39F', 'BSBC39G', 'BSBC39H', 'BSBC39I', 'BSBC39J', 'BSBC40A', 'BSBC40B', 'BSBC40C', 'BSBC40D', 'BSBC40E', 'BSBC40F', 'BSBC41A', 'BSBC41B', 'BSBC41C', 'BSBC41D', 'BSBC41E', 'BSBC41F', 'BSBC41G', 'BSBC41H', 'BSBP42', 'BSBP43', 'BSBP44A', 'BSBP44B', 'BSBP44C', 'BSBP44D', 'BSBP44E', 'BSBP44F', 'BSBP44G', 'BSBP44H', 'BSBP44I', 'BSBP45A', 'BSBP45B', 'BSBP45C', 'BSBP45D', 'BSBP45E', 'BSBP45F', 'BSBP45G', 'BSBP45H', 'BSBP45I', 'BSBP45J', 'BSBP46A', 'BSBP46B', 'BSBP46C', 'BSBP46D', 'BSBP46E', 'BSBP46F', 'BSBP47A', 'BSBP47B', 'BSBP47C', 'BSBP47D', 'BSBP47E', 'BSBP47F', 'BSBP47G', 'BSBP47H', 'BSBS48A', 'BSBS48B', 'BSBS48C', 'BSBS48D', 'BSBS48E', 'BSBS48F', 'BSBS48G', 'BSBS48H', 'BSBS48I', 'BSBM49A', 'BSBB49B', 'BSBE49C', 'BSBC49D', 'BSBP49E', 'JKZONE', 'JKREP', 'TOTWGT', 'HOUWGT', 'SENWGT', 'WGTFAC1', 'WGTADJ1', 'WGTFAC2', 'WGTADJ2', 'WGTFAC3', 'WGTADJ3', 'BSMMAT01', 'BSMMAT02', 'BSMMAT03', 'BSMMAT04', 'BSMMAT05', 'BSMNUM01', 'BSMNUM02', 'BSMNUM03', 'BSMNUM04', 'BSMNUM05', 'BSMALG01', 'BSMALG02', 'BSMALG03', 'BSMALG04', 'BSMALG05', 'BSMGEO01', 'BSMGEO02', 'BSMGEO03', 'BSMGEO04', 'BSMGEO05', 'BSMDAT01', 'BSMDAT02', 'BSMDAT03', 'BSMDAT04', 'BSMDAT05', 'BSMKNO01', 'BSMKNO02', 'BSMKNO03', 'BSMKNO04', 'BSMKNO05', 'BSMAPP01', 'BSMAPP02', 'BSMAPP03', 'BSMAPP04', 'BSMAPP05', 'BSMREA01', 'BSMREA02', 'BSMREA03', 'BSMREA04', 'BSMREA05', 'BSSSCI01', 'BSSSCI02', 'BSSSCI03', 'BSSSCI04', 'BSSSCI05', 'BSSBIO01', 'BSSBIO02', 'BSSBIO03', 'BSSBIO04', 'BSSBIO05', 'BSSCHE01', 'BSSCHE02', 'BSSCHE03', 'BSSCHE04', 'BSSCHE05', 'BSSPHY01', 'BSSPHY02', 'BSSPHY03', 'BSSPHY04', 'BSSPHY05', 'BSSEAR01', 'BSSEAR02', 'BSSEAR03', 'BSSEAR04', 'BSSEAR05', 'BSSKNO01', 'BSSKNO02', 'BSSKNO03', 'BSSKNO04', 'BSSKNO05', 'BSSAPP01', 'BSSAPP02', 'BSSAPP03', 'BSSAPP04', 'BSSAPP05', 'BSSREA01', 'BSSREA02', 'BSSREA03', 'BSSREA04', 'BSSREA05', 'BSSENV01', 'BSSENV02', 'BSSENV03', 'BSSENV04', 'BSSENV05', 'BSMIBM01', 'BSMIBM02', 'BSMIBM03', 'BSMIBM04', 'BSMIBM05', 'BSSIBM01', 'BSSIBM02', 'BSSIBM03', 'BSSIBM04', 'BSSIBM05', 'BSBGHER', 'BSDGHER', 'BSBGSSB', 'BSDGSSB', 'BSBGSB', 'BSDGSB', 'BSBGSLM', 'BSDGSLM', 'BSBGICM', 'BSDGICM', 'BSBGDML', 'BSDGDML', 'BSBGSCM', 'BSDGSCM', 'BSBGSVM', 'BSDGSVM', 'BSBGSLS', 'BSDGSLS', 'BSBGICS', 'BSDGICS', 'BSBGSCS', 'BSDGSCS', 'BSBGSVS', 'BSDGSVS', 'BSBGSLB', 'BSDGSLB', 'BSBGICB', 'BSDGICB', 'BSBGSCB', 'BSDGSCB', 'BSBGSLE', 'BSDGSLE', 'BSBGICE', 'BSDGICE', 'BSBGSCE', 'BSDGSCE', 'BSBGSLC', 'BSDGSLC', 'BSBGICC', 'BSDGICC', 'BSBGSCC', 'BSDGSCC', 'BSBGSLP', 'BSDGSLP', 'BSBGICP', 'BSDGICP', 'BSBGSCP', 'BSDGSCP', 'BSBGSEC', 'BSDGSEC', 'BSBGDSL', 'BSDGDSL', 'BSBGDBL', 'BSDGDBL', 'BSBGDEL', 'BSDGDEL', 'BSBGDCL', 'BSDGDCL', 'BSBGDPL', 'BSDGDPL', 'BSBGVEP', 'BSDGVEP', 'BSDG05S', 'BSDGEDUP', 'BSDMLOWP', 'BSDSLOWP', 'BSDMZERP', 'BSDSZERP', 'BSDMCORP', 'BSDSCORP', 'BSDMMISP', 'BSDSMISP', 'VERSION', 'SCOPE']\n"
     ]
    }
   ],
   "source": [
    "print(df_bg.columns.tolist())"
   ]
  },
  {
   "cell_type": "code",
   "execution_count": 40,
   "metadata": {},
   "outputs": [],
   "source": [
    "potential_predictors = [\n",
    "    'BSBG01',    # Student gender\n",
    "    'BSBG04',    # Number of books in home\n",
    "    'BSDGEDUP',  # Parents' highest education level\n",
    "    'BSBGSLM',   # Student likes math\n",
    "    'BSBGSCM',   # Student confident in math\n",
    "    'BSBGSB'     # Sense of school belonging\n",
    "]"
   ]
  },
  {
   "cell_type": "markdown",
   "metadata": {},
   "source": [
    "These predictors are based on TIMSS documentation and research."
   ]
  },
  {
   "cell_type": "markdown",
   "metadata": {},
   "source": [
    "# Display value counts for a couple of these variables"
   ]
  },
  {
   "cell_type": "code",
   "execution_count": 36,
   "metadata": {},
   "outputs": [
    {
     "name": "stdout",
     "output_type": "stream",
     "text": [
      "\n",
      "Gender distribution:\n",
      "BSBG01\n",
      "Boy        2583\n",
      "Girl       2283\n",
      "<Other>     177\n",
      "NaN          47\n",
      "Name: count, dtype: int64\n"
     ]
    }
   ],
   "source": [
    "print(\"\\nGender distribution:\")\n",
    "print(df_bg['BSBG01'].value_counts(dropna=False))"
   ]
  },
  {
   "cell_type": "code",
   "execution_count": 41,
   "metadata": {},
   "outputs": [
    {
     "name": "stdout",
     "output_type": "stream",
     "text": [
      "\n",
      "Number of books in home:\n",
      "BSBG04\n",
      "Enough to fill one bookcase (26–100 books)                1480\n",
      "Enough to fill one shelf (11–25 books)                     996\n",
      "Enough to fill three or more bookcases (more than 200)     830\n",
      "Enough to fill two bookcases (101–200 books)               950\n",
      "None or very few (0–10 books)                              778\n",
      "NaN                                                         56\n",
      "Name: count, dtype: int64\n"
     ]
    }
   ],
   "source": [
    "print(\"\\nNumber of books in home:\")\n",
    "print(df_bg['BSBG04'].value_counts(dropna=False).sort_index())"
   ]
  },
  {
   "cell_type": "markdown",
   "metadata": {},
   "source": [
    "# Merge achievement and background data"
   ]
  },
  {
   "cell_type": "code",
   "execution_count": 46,
   "metadata": {},
   "outputs": [
    {
     "name": "stdout",
     "output_type": "stream",
     "text": [
      "Merged data shape: (5090, 1655)\n"
     ]
    }
   ],
   "source": [
    "merged_data = pd.merge(\n",
    "    df_ach,\n",
    "    df_bg,\n",
    "    on=\"IDSTUD\",  # Student ID is the common key\n",
    "    how=\"inner\",\n",
    "    suffixes=('_ach', '_bg')\n",
    ")\n",
    "\n",
    "print(f\"Merged data shape: {merged_data.shape}\")"
   ]
  },
  {
   "cell_type": "markdown",
   "metadata": {},
   "source": [
    "Here we can see 5090 students after merging."
   ]
  },
  {
   "cell_type": "markdown",
   "metadata": {},
   "source": [
    "## Create a target variable as the average of all plausible values"
   ]
  },
  {
   "cell_type": "code",
   "execution_count": 54,
   "metadata": {},
   "outputs": [
    {
     "name": "stdout",
     "output_type": "stream",
     "text": [
      "Math score variables: ['BSMMAT01_ach', 'BSMMAT02_ach', 'BSMMAT03_ach', 'BSMMAT04_ach', 'BSMMAT05_ach']\n"
     ]
    }
   ],
   "source": [
    "math_vars = [col for col in merged_data.columns if col.startswith('BSMMAT') and col.endswith('_ach')]\n",
    "print(f\"Math score variables: {math_vars}\")\n"
   ]
  },
  {
   "cell_type": "code",
   "execution_count": 55,
   "metadata": {},
   "outputs": [
    {
     "name": "stdout",
     "output_type": "stream",
     "text": [
      "\n",
      "Basic statistics of average math score:\n",
      "count    5090.000000\n",
      "mean      523.604135\n",
      "std        74.407261\n",
      "min       268.910408\n",
      "25%       474.095008\n",
      "50%       527.223925\n",
      "75%       575.779497\n",
      "max       753.278594\n",
      "Name: math_score, dtype: float64\n"
     ]
    }
   ],
   "source": [
    "merged_data['math_score'] = merged_data[math_vars].mean(axis=1)\n",
    "print(\"\\nBasic statistics of average math score:\")\n",
    "print(merged_data['math_score'].describe())"
   ]
  },
  {
   "cell_type": "code",
   "execution_count": 56,
   "metadata": {},
   "outputs": [
    {
     "ename": "IndentationError",
     "evalue": "unexpected indent (1263514521.py, line 2)",
     "output_type": "error",
     "traceback": [
      "\u001b[1;36m  Cell \u001b[1;32mIn[56], line 2\u001b[1;36m\u001b[0m\n\u001b[1;33m    missing_data = model_data.isnull().sum()\u001b[0m\n\u001b[1;37m    ^\u001b[0m\n\u001b[1;31mIndentationError\u001b[0m\u001b[1;31m:\u001b[0m unexpected indent\n"
     ]
    }
   ],
   "source": [
    "# Check for missing values\n",
    "missing_data = model_data.isnull().sum()\n",
    "missing_percent = (missing_data / len(model_data)) * 100\n",
    "    missing_info = pd.DataFrame({\n",
    "        'Missing Values': missing_data,\n",
    "        'Percent Missing': missing_percent\n",
    "    })\n",
    "    print(\"\\nMissing values in key features:\")\n",
    "    print(missing_info[missing_info['Missing Values'] > 0].sort_values('Missing Values', ascending=False))"
   ]
  },
  {
   "cell_type": "code",
   "execution_count": null,
   "metadata": {},
   "outputs": [],
   "source": []
  }
 ],
 "metadata": {
  "kernelspec": {
   "display_name": "Python 3 (ipykernel)",
   "language": "python",
   "name": "python3"
  },
  "language_info": {
   "codemirror_mode": {
    "name": "ipython",
    "version": 3
   },
   "file_extension": ".py",
   "mimetype": "text/x-python",
   "name": "python",
   "nbconvert_exporter": "python",
   "pygments_lexer": "ipython3",
   "version": "3.11.4"
  }
 },
 "nbformat": 4,
 "nbformat_minor": 4
}
